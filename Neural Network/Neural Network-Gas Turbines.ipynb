{
 "cells": [
  {
   "cell_type": "code",
   "execution_count": 1,
   "id": "c902e27c",
   "metadata": {
    "ExecuteTime": {
     "end_time": "2023-03-25T17:17:35.431032Z",
     "start_time": "2023-03-25T17:17:24.906314Z"
    }
   },
   "outputs": [],
   "source": [
    "import pandas as pd\n",
    "import numpy as np\n",
    "import matplotlib.pyplot as plt\n",
    "import seaborn as sns\n",
    "import tensorflow.keras\n",
    "import tensorflow\n",
    "from sklearn.preprocessing import StandardScaler\n",
    "from sklearn.preprocessing import MinMaxScaler\n",
    "from tensorflow.keras.models import Sequential\n",
    "from tensorflow.keras.layers import Dense\n",
    "from sklearn.model_selection import GridSearchCV, KFold\n",
    "from tensorflow.keras.wrappers.scikit_learn import KerasClassifier\n",
    "from tensorflow.keras.optimizers import Adam\n",
    "import warnings\n",
    "warnings.filterwarnings(\"ignore\")"
   ]
  },
  {
   "cell_type": "code",
   "execution_count": 2,
   "id": "425886e2",
   "metadata": {
    "ExecuteTime": {
     "end_time": "2023-03-25T17:17:50.827697Z",
     "start_time": "2023-03-25T17:17:50.700508Z"
    }
   },
   "outputs": [
    {
     "data": {
      "text/html": [
       "<div>\n",
       "<style scoped>\n",
       "    .dataframe tbody tr th:only-of-type {\n",
       "        vertical-align: middle;\n",
       "    }\n",
       "\n",
       "    .dataframe tbody tr th {\n",
       "        vertical-align: top;\n",
       "    }\n",
       "\n",
       "    .dataframe thead th {\n",
       "        text-align: right;\n",
       "    }\n",
       "</style>\n",
       "<table border=\"1\" class=\"dataframe\">\n",
       "  <thead>\n",
       "    <tr style=\"text-align: right;\">\n",
       "      <th></th>\n",
       "      <th>AT</th>\n",
       "      <th>AP</th>\n",
       "      <th>AH</th>\n",
       "      <th>AFDP</th>\n",
       "      <th>GTEP</th>\n",
       "      <th>TIT</th>\n",
       "      <th>TAT</th>\n",
       "      <th>TEY</th>\n",
       "      <th>CDP</th>\n",
       "      <th>CO</th>\n",
       "      <th>NOX</th>\n",
       "    </tr>\n",
       "  </thead>\n",
       "  <tbody>\n",
       "    <tr>\n",
       "      <th>0</th>\n",
       "      <td>6.8594</td>\n",
       "      <td>1007.9</td>\n",
       "      <td>96.799</td>\n",
       "      <td>3.5000</td>\n",
       "      <td>19.663</td>\n",
       "      <td>1059.2</td>\n",
       "      <td>550.00</td>\n",
       "      <td>114.70</td>\n",
       "      <td>10.605</td>\n",
       "      <td>3.1547</td>\n",
       "      <td>82.722</td>\n",
       "    </tr>\n",
       "    <tr>\n",
       "      <th>1</th>\n",
       "      <td>6.7850</td>\n",
       "      <td>1008.4</td>\n",
       "      <td>97.118</td>\n",
       "      <td>3.4998</td>\n",
       "      <td>19.728</td>\n",
       "      <td>1059.3</td>\n",
       "      <td>550.00</td>\n",
       "      <td>114.72</td>\n",
       "      <td>10.598</td>\n",
       "      <td>3.2363</td>\n",
       "      <td>82.776</td>\n",
       "    </tr>\n",
       "    <tr>\n",
       "      <th>2</th>\n",
       "      <td>6.8977</td>\n",
       "      <td>1008.8</td>\n",
       "      <td>95.939</td>\n",
       "      <td>3.4824</td>\n",
       "      <td>19.779</td>\n",
       "      <td>1059.4</td>\n",
       "      <td>549.87</td>\n",
       "      <td>114.71</td>\n",
       "      <td>10.601</td>\n",
       "      <td>3.2012</td>\n",
       "      <td>82.468</td>\n",
       "    </tr>\n",
       "    <tr>\n",
       "      <th>3</th>\n",
       "      <td>7.0569</td>\n",
       "      <td>1009.2</td>\n",
       "      <td>95.249</td>\n",
       "      <td>3.4805</td>\n",
       "      <td>19.792</td>\n",
       "      <td>1059.6</td>\n",
       "      <td>549.99</td>\n",
       "      <td>114.72</td>\n",
       "      <td>10.606</td>\n",
       "      <td>3.1923</td>\n",
       "      <td>82.670</td>\n",
       "    </tr>\n",
       "    <tr>\n",
       "      <th>4</th>\n",
       "      <td>7.3978</td>\n",
       "      <td>1009.7</td>\n",
       "      <td>95.150</td>\n",
       "      <td>3.4976</td>\n",
       "      <td>19.765</td>\n",
       "      <td>1059.7</td>\n",
       "      <td>549.98</td>\n",
       "      <td>114.72</td>\n",
       "      <td>10.612</td>\n",
       "      <td>3.2484</td>\n",
       "      <td>82.311</td>\n",
       "    </tr>\n",
       "  </tbody>\n",
       "</table>\n",
       "</div>"
      ],
      "text/plain": [
       "       AT      AP      AH    AFDP    GTEP     TIT     TAT     TEY     CDP  \\\n",
       "0  6.8594  1007.9  96.799  3.5000  19.663  1059.2  550.00  114.70  10.605   \n",
       "1  6.7850  1008.4  97.118  3.4998  19.728  1059.3  550.00  114.72  10.598   \n",
       "2  6.8977  1008.8  95.939  3.4824  19.779  1059.4  549.87  114.71  10.601   \n",
       "3  7.0569  1009.2  95.249  3.4805  19.792  1059.6  549.99  114.72  10.606   \n",
       "4  7.3978  1009.7  95.150  3.4976  19.765  1059.7  549.98  114.72  10.612   \n",
       "\n",
       "       CO     NOX  \n",
       "0  3.1547  82.722  \n",
       "1  3.2363  82.776  \n",
       "2  3.2012  82.468  \n",
       "3  3.1923  82.670  \n",
       "4  3.2484  82.311  "
      ]
     },
     "execution_count": 2,
     "metadata": {},
     "output_type": "execute_result"
    }
   ],
   "source": [
    "data = pd.read_csv(\"gas_turbines.csv\")\n",
    "data.head()"
   ]
  },
  {
   "cell_type": "code",
   "execution_count": 3,
   "id": "44aaaa47",
   "metadata": {
    "ExecuteTime": {
     "end_time": "2023-03-25T17:17:57.380476Z",
     "start_time": "2023-03-25T17:17:57.290173Z"
    }
   },
   "outputs": [
    {
     "name": "stdout",
     "output_type": "stream",
     "text": [
      "<class 'pandas.core.frame.DataFrame'>\n",
      "RangeIndex: 15039 entries, 0 to 15038\n",
      "Data columns (total 11 columns):\n",
      " #   Column  Non-Null Count  Dtype  \n",
      "---  ------  --------------  -----  \n",
      " 0   AT      15039 non-null  float64\n",
      " 1   AP      15039 non-null  float64\n",
      " 2   AH      15039 non-null  float64\n",
      " 3   AFDP    15039 non-null  float64\n",
      " 4   GTEP    15039 non-null  float64\n",
      " 5   TIT     15039 non-null  float64\n",
      " 6   TAT     15039 non-null  float64\n",
      " 7   TEY     15039 non-null  float64\n",
      " 8   CDP     15039 non-null  float64\n",
      " 9   CO      15039 non-null  float64\n",
      " 10  NOX     15039 non-null  float64\n",
      "dtypes: float64(11)\n",
      "memory usage: 1.3 MB\n"
     ]
    }
   ],
   "source": [
    "data.info()"
   ]
  },
  {
   "cell_type": "code",
   "execution_count": 4,
   "id": "edc5ce2b",
   "metadata": {
    "ExecuteTime": {
     "end_time": "2023-03-25T17:18:04.182696Z",
     "start_time": "2023-03-25T17:18:04.147682Z"
    }
   },
   "outputs": [
    {
     "data": {
      "text/html": [
       "<div>\n",
       "<style scoped>\n",
       "    .dataframe tbody tr th:only-of-type {\n",
       "        vertical-align: middle;\n",
       "    }\n",
       "\n",
       "    .dataframe tbody tr th {\n",
       "        vertical-align: top;\n",
       "    }\n",
       "\n",
       "    .dataframe thead th {\n",
       "        text-align: right;\n",
       "    }\n",
       "</style>\n",
       "<table border=\"1\" class=\"dataframe\">\n",
       "  <thead>\n",
       "    <tr style=\"text-align: right;\">\n",
       "      <th></th>\n",
       "      <th>AT</th>\n",
       "      <th>AP</th>\n",
       "      <th>AH</th>\n",
       "      <th>AFDP</th>\n",
       "      <th>GTEP</th>\n",
       "      <th>TIT</th>\n",
       "      <th>TAT</th>\n",
       "      <th>TEY</th>\n",
       "      <th>CDP</th>\n",
       "      <th>CO</th>\n",
       "      <th>NOX</th>\n",
       "    </tr>\n",
       "  </thead>\n",
       "  <tbody>\n",
       "  </tbody>\n",
       "</table>\n",
       "</div>"
      ],
      "text/plain": [
       "Empty DataFrame\n",
       "Columns: [AT, AP, AH, AFDP, GTEP, TIT, TAT, TEY, CDP, CO, NOX]\n",
       "Index: []"
      ]
     },
     "execution_count": 4,
     "metadata": {},
     "output_type": "execute_result"
    }
   ],
   "source": [
    "data[data.duplicated()]"
   ]
  },
  {
   "cell_type": "code",
   "execution_count": 5,
   "id": "7f5e1bd9",
   "metadata": {
    "ExecuteTime": {
     "end_time": "2023-03-25T17:18:19.149404Z",
     "start_time": "2023-03-25T17:18:12.631351Z"
    }
   },
   "outputs": [
    {
     "data": {
      "image/png": "[encoded data removed]",
      "text/plain": [
       "<Figure size 1080x720 with 12 Axes>"
      ]
     },
     "metadata": {
      "needs_background": "light"
     },
     "output_type": "display_data"
    }
   ],
   "source": [
    "fig, ax = plt.subplots(4, 3, figsize=(15,10))\n",
    "sns.distplot(data.AT, ax=ax[0,0],color='g')\n",
    "sns.distplot(data.AP, ax=ax[0,1])\n",
    "sns.distplot(data.AH, ax=ax[0,2],color='g')\n",
    "sns.distplot(data.AFDP, ax=ax[1,0])\n",
    "sns.distplot(data.GTEP, ax=ax[1,1],color='g')\n",
    "sns.distplot(data.TIT, ax=ax[1,2])\n",
    "sns.distplot(data.TAT, ax=ax[2,0],color='g')\n",
    "sns.distplot(data.TEY, ax=ax[2,1])\n",
    "sns.distplot(data.CDP, ax=ax[2,2],color='g')\n",
    "sns.distplot(data.CO, ax=ax[3,0])\n",
    "sns.distplot(data.NOX, ax=ax[3,1],color='g')\n",
    "\n",
    "plt.tight_layout()\n",
    "plt.show()"
   ]
  },
  {
   "cell_type": "code",
   "execution_count": 6,
   "id": "08296c10",
   "metadata": {
    "ExecuteTime": {
     "end_time": "2023-03-25T17:18:28.697014Z",
     "start_time": "2023-03-25T17:18:27.266746Z"
    }
   },
   "outputs": [
    {
     "data": {
      "image/png": "[encoded data removed]",
      "text/plain": [
       "<Figure size 1080x720 with 12 Axes>"
      ]
     },
     "metadata": {
      "needs_background": "light"
     },
     "output_type": "display_data"
    }
   ],
   "source": [
    "fig, ax = plt.subplots(4, 3, figsize=(15,10))\n",
    "sns.boxplot(data.AT, ax=ax[0,0],color='g')\n",
    "sns.boxplot(data.AP, ax=ax[0,1])\n",
    "sns.boxplot(data.AH, ax=ax[0,2],color='g')\n",
    "sns.boxplot(data.AFDP, ax=ax[1,0])\n",
    "sns.boxplot(data.GTEP, ax=ax[1,1],color='g')\n",
    "sns.boxplot(data.TIT, ax=ax[1,2])\n",
    "sns.boxplot(data.TAT, ax=ax[2,0],color='g')\n",
    "sns.boxplot(data.TEY, ax=ax[2,1])\n",
    "sns.boxplot(data.CDP, ax=ax[2,2],color='g')\n",
    "sns.boxplot(data.CO, ax=ax[3,0])\n",
    "sns.boxplot(data.NOX, ax=ax[3,1],color='g')\n",
    "\n",
    "plt.tight_layout()\n",
    "plt.show()"
   ]
  },
  {
   "cell_type": "code",
   "execution_count": 7,
   "id": "cddd5a87",
   "metadata": {
    "ExecuteTime": {
     "end_time": "2023-03-25T17:18:35.310125Z",
     "start_time": "2023-03-25T17:18:35.277072Z"
    }
   },
   "outputs": [
    {
     "data": {
      "text/html": [
       "<div>\n",
       "<style scoped>\n",
       "    .dataframe tbody tr th:only-of-type {\n",
       "        vertical-align: middle;\n",
       "    }\n",
       "\n",
       "    .dataframe tbody tr th {\n",
       "        vertical-align: top;\n",
       "    }\n",
       "\n",
       "    .dataframe thead th {\n",
       "        text-align: right;\n",
       "    }\n",
       "</style>\n",
       "<table border=\"1\" class=\"dataframe\">\n",
       "  <thead>\n",
       "    <tr style=\"text-align: right;\">\n",
       "      <th></th>\n",
       "      <th>AT</th>\n",
       "      <th>AP</th>\n",
       "      <th>AH</th>\n",
       "      <th>AFDP</th>\n",
       "      <th>GTEP</th>\n",
       "      <th>TIT</th>\n",
       "      <th>TAT</th>\n",
       "      <th>TEY</th>\n",
       "      <th>CDP</th>\n",
       "      <th>CO</th>\n",
       "      <th>NOX</th>\n",
       "    </tr>\n",
       "  </thead>\n",
       "  <tbody>\n",
       "    <tr>\n",
       "      <th>0</th>\n",
       "      <td>0.184182</td>\n",
       "      <td>0.456050</td>\n",
       "      <td>0.951314</td>\n",
       "      <td>0.255758</td>\n",
       "      <td>0.091426</td>\n",
       "      <td>0.584</td>\n",
       "      <td>0.984015</td>\n",
       "      <td>0.195191</td>\n",
       "      <td>0.135340</td>\n",
       "      <td>0.071522</td>\n",
       "      <td>0.596548</td>\n",
       "    </tr>\n",
       "    <tr>\n",
       "      <th>1</th>\n",
       "      <td>0.182020</td>\n",
       "      <td>0.466391</td>\n",
       "      <td>0.955881</td>\n",
       "      <td>0.255721</td>\n",
       "      <td>0.094755</td>\n",
       "      <td>0.585</td>\n",
       "      <td>0.984015</td>\n",
       "      <td>0.195459</td>\n",
       "      <td>0.133988</td>\n",
       "      <td>0.073372</td>\n",
       "      <td>0.597134</td>\n",
       "    </tr>\n",
       "    <tr>\n",
       "      <th>2</th>\n",
       "      <td>0.185295</td>\n",
       "      <td>0.474664</td>\n",
       "      <td>0.939003</td>\n",
       "      <td>0.252571</td>\n",
       "      <td>0.097367</td>\n",
       "      <td>0.586</td>\n",
       "      <td>0.980608</td>\n",
       "      <td>0.195325</td>\n",
       "      <td>0.134567</td>\n",
       "      <td>0.072576</td>\n",
       "      <td>0.593791</td>\n",
       "    </tr>\n",
       "    <tr>\n",
       "      <th>3</th>\n",
       "      <td>0.189922</td>\n",
       "      <td>0.482937</td>\n",
       "      <td>0.929126</td>\n",
       "      <td>0.252227</td>\n",
       "      <td>0.098033</td>\n",
       "      <td>0.588</td>\n",
       "      <td>0.983753</td>\n",
       "      <td>0.195459</td>\n",
       "      <td>0.135533</td>\n",
       "      <td>0.072375</td>\n",
       "      <td>0.595984</td>\n",
       "    </tr>\n",
       "    <tr>\n",
       "      <th>4</th>\n",
       "      <td>0.199830</td>\n",
       "      <td>0.493278</td>\n",
       "      <td>0.927708</td>\n",
       "      <td>0.255323</td>\n",
       "      <td>0.096650</td>\n",
       "      <td>0.589</td>\n",
       "      <td>0.983491</td>\n",
       "      <td>0.195459</td>\n",
       "      <td>0.136692</td>\n",
       "      <td>0.073647</td>\n",
       "      <td>0.592087</td>\n",
       "    </tr>\n",
       "    <tr>\n",
       "      <th>...</th>\n",
       "      <td>...</td>\n",
       "      <td>...</td>\n",
       "      <td>...</td>\n",
       "      <td>...</td>\n",
       "      <td>...</td>\n",
       "      <td>...</td>\n",
       "      <td>...</td>\n",
       "      <td>...</td>\n",
       "      <td>...</td>\n",
       "      <td>...</td>\n",
       "      <td>...</td>\n",
       "    </tr>\n",
       "    <tr>\n",
       "      <th>15034</th>\n",
       "      <td>0.247272</td>\n",
       "      <td>0.408480</td>\n",
       "      <td>0.975092</td>\n",
       "      <td>0.263380</td>\n",
       "      <td>0.065868</td>\n",
       "      <td>0.489</td>\n",
       "      <td>0.884696</td>\n",
       "      <td>0.153681</td>\n",
       "      <td>0.095739</td>\n",
       "      <td>0.102448</td>\n",
       "      <td>0.562214</td>\n",
       "    </tr>\n",
       "    <tr>\n",
       "      <th>15035</th>\n",
       "      <td>0.214075</td>\n",
       "      <td>0.414685</td>\n",
       "      <td>0.984153</td>\n",
       "      <td>0.256826</td>\n",
       "      <td>0.078672</td>\n",
       "      <td>0.455</td>\n",
       "      <td>0.806342</td>\n",
       "      <td>0.155965</td>\n",
       "      <td>0.102113</td>\n",
       "      <td>0.109894</td>\n",
       "      <td>0.566100</td>\n",
       "    </tr>\n",
       "    <tr>\n",
       "      <th>15036</th>\n",
       "      <td>0.195962</td>\n",
       "      <td>0.422958</td>\n",
       "      <td>0.989922</td>\n",
       "      <td>0.251593</td>\n",
       "      <td>0.084614</td>\n",
       "      <td>0.369</td>\n",
       "      <td>0.651730</td>\n",
       "      <td>0.134605</td>\n",
       "      <td>0.111772</td>\n",
       "      <td>0.180552</td>\n",
       "      <td>0.685449</td>\n",
       "    </tr>\n",
       "    <tr>\n",
       "      <th>15037</th>\n",
       "      <td>0.188443</td>\n",
       "      <td>0.433299</td>\n",
       "      <td>0.982936</td>\n",
       "      <td>0.246451</td>\n",
       "      <td>0.076777</td>\n",
       "      <td>0.424</td>\n",
       "      <td>0.754455</td>\n",
       "      <td>0.141994</td>\n",
       "      <td>0.121431</td>\n",
       "      <td>0.141693</td>\n",
       "      <td>0.710578</td>\n",
       "    </tr>\n",
       "    <tr>\n",
       "      <th>15038</th>\n",
       "      <td>0.186173</td>\n",
       "      <td>0.441572</td>\n",
       "      <td>0.961821</td>\n",
       "      <td>0.242631</td>\n",
       "      <td>0.073141</td>\n",
       "      <td>0.491</td>\n",
       "      <td>0.875262</td>\n",
       "      <td>0.153278</td>\n",
       "      <td>0.131090</td>\n",
       "      <td>0.112946</td>\n",
       "      <td>0.702665</td>\n",
       "    </tr>\n",
       "  </tbody>\n",
       "</table>\n",
       "<p>15039 rows × 11 columns</p>\n",
       "</div>"
      ],
      "text/plain": [
       "             AT        AP        AH      AFDP      GTEP    TIT       TAT  \\\n",
       "0      0.184182  0.456050  0.951314  0.255758  0.091426  0.584  0.984015   \n",
       "1      0.182020  0.466391  0.955881  0.255721  0.094755  0.585  0.984015   \n",
       "2      0.185295  0.474664  0.939003  0.252571  0.097367  0.586  0.980608   \n",
       "3      0.189922  0.482937  0.929126  0.252227  0.098033  0.588  0.983753   \n",
       "4      0.199830  0.493278  0.927708  0.255323  0.096650  0.589  0.983491   \n",
       "...         ...       ...       ...       ...       ...    ...       ...   \n",
       "15034  0.247272  0.408480  0.975092  0.263380  0.065868  0.489  0.884696   \n",
       "15035  0.214075  0.414685  0.984153  0.256826  0.078672  0.455  0.806342   \n",
       "15036  0.195962  0.422958  0.989922  0.251593  0.084614  0.369  0.651730   \n",
       "15037  0.188443  0.433299  0.982936  0.246451  0.076777  0.424  0.754455   \n",
       "15038  0.186173  0.441572  0.961821  0.242631  0.073141  0.491  0.875262   \n",
       "\n",
       "            TEY       CDP        CO       NOX  \n",
       "0      0.195191  0.135340  0.071522  0.596548  \n",
       "1      0.195459  0.133988  0.073372  0.597134  \n",
       "2      0.195325  0.134567  0.072576  0.593791  \n",
       "3      0.195459  0.135533  0.072375  0.595984  \n",
       "4      0.195459  0.136692  0.073647  0.592087  \n",
       "...         ...       ...       ...       ...  \n",
       "15034  0.153681  0.095739  0.102448  0.562214  \n",
       "15035  0.155965  0.102113  0.109894  0.566100  \n",
       "15036  0.134605  0.111772  0.180552  0.685449  \n",
       "15037  0.141994  0.121431  0.141693  0.710578  \n",
       "15038  0.153278  0.131090  0.112946  0.702665  \n",
       "\n",
       "[15039 rows x 11 columns]"
      ]
     },
     "execution_count": 7,
     "metadata": {},
     "output_type": "execute_result"
    }
   ],
   "source": [
    "scale=MinMaxScaler()\n",
    "data1=pd.DataFrame(scale.fit_transform(data),columns=['AT','AP','AH','AFDP','GTEP','TIT','TAT','TEY','CDP','CO','NOX'])\n",
    "data1"
   ]
  },
  {
   "cell_type": "code",
   "execution_count": 8,
   "id": "196097e5",
   "metadata": {
    "ExecuteTime": {
     "end_time": "2023-03-25T17:18:44.213846Z",
     "start_time": "2023-03-25T17:18:44.197845Z"
    }
   },
   "outputs": [],
   "source": [
    "X = data1.drop(axis=0,columns=\"TEY\").values\n",
    "Y = data1[\"TEY\"].values"
   ]
  },
  {
   "cell_type": "code",
   "execution_count": 9,
   "id": "bda715c4",
   "metadata": {
    "ExecuteTime": {
     "end_time": "2023-03-25T17:18:45.541163Z",
     "start_time": "2023-03-25T17:18:45.497362Z"
    }
   },
   "outputs": [
    {
     "data": {
      "text/plain": [
       "array([[0.18418215, 0.45604964, 0.95131413, ..., 0.1353398 , 0.07152212,\n",
       "        0.59654817],\n",
       "       [0.18201978, 0.4663909 , 0.95588067, ..., 0.13398756, 0.07337235,\n",
       "        0.59713433],\n",
       "       [0.18529531, 0.47466391, 0.93900309, ..., 0.13456709, 0.07257648,\n",
       "        0.59379104],\n",
       "       ...,\n",
       "       [0.19596183, 0.4229576 , 0.98992213, ..., 0.11177221, 0.18055195,\n",
       "        0.68544912],\n",
       "       [0.18844295, 0.43329886, 0.98293633, ..., 0.12143106, 0.14169257,\n",
       "        0.71057802],\n",
       "       [0.18617304, 0.44157187, 0.96182146, ..., 0.1310899 , 0.11294597,\n",
       "        0.70266486]])"
      ]
     },
     "execution_count": 9,
     "metadata": {},
     "output_type": "execute_result"
    }
   ],
   "source": [
    "X"
   ]
  },
  {
   "cell_type": "code",
   "execution_count": 10,
   "id": "55a8ae5c",
   "metadata": {
    "ExecuteTime": {
     "end_time": "2023-03-25T17:18:49.746080Z",
     "start_time": "2023-03-25T17:18:49.739274Z"
    }
   },
   "outputs": [
    {
     "data": {
      "text/plain": [
       "array([0.19519076, 0.19545943, 0.19532509, ..., 0.13460505, 0.14199355,\n",
       "       0.15327781])"
      ]
     },
     "execution_count": 10,
     "metadata": {},
     "output_type": "execute_result"
    }
   ],
   "source": [
    "Y"
   ]
  },
  {
   "cell_type": "code",
   "execution_count": 11,
   "id": "01fb04ab",
   "metadata": {
    "ExecuteTime": {
     "end_time": "2023-03-25T17:18:54.352128Z",
     "start_time": "2023-03-25T17:18:54.297604Z"
    }
   },
   "outputs": [],
   "source": [
    "seed = 7\n",
    "np.random.seed(seed)"
   ]
  },
  {
   "cell_type": "code",
   "execution_count": 12,
   "id": "ad1d7aca",
   "metadata": {
    "ExecuteTime": {
     "end_time": "2023-03-25T17:18:59.676434Z",
     "start_time": "2023-03-25T17:18:59.389375Z"
    }
   },
   "outputs": [],
   "source": [
    "model = Sequential()\n",
    "model.add(Dense(12, input_dim=10, kernel_initializer='uniform', activation='relu'))\n",
    "model.add(Dense(8, kernel_initializer='uniform', activation='relu'))\n",
    "model.add(Dense(1, kernel_initializer='uniform', activation='sigmoid'))"
   ]
  },
  {
   "cell_type": "code",
   "execution_count": 13,
   "id": "ee98abe7",
   "metadata": {
    "ExecuteTime": {
     "end_time": "2023-03-25T17:19:04.421049Z",
     "start_time": "2023-03-25T17:19:04.388059Z"
    }
   },
   "outputs": [],
   "source": [
    "model.compile(loss='mse', optimizer='adam', metrics=['accuracy'])"
   ]
  },
  {
   "cell_type": "code",
   "execution_count": 14,
   "id": "2f482db8",
   "metadata": {
    "ExecuteTime": {
     "end_time": "2023-03-25T17:22:00.880454Z",
     "start_time": "2023-03-25T17:19:10.355253Z"
    }
   },
   "outputs": [
    {
     "name": "stdout",
     "output_type": "stream",
     "text": [
      "Epoch 1/100\n",
      "1008/1008 [==============================] - 3s 2ms/step - loss: 0.0084 - accuracy: 9.9246e-05 - val_loss: 7.7207e-04 - val_accuracy: 2.0149e-04\n",
      "Epoch 2/100\n",
      "1008/1008 [==============================] - 2s 2ms/step - loss: 3.8026e-04 - accuracy: 9.9246e-05 - val_loss: 2.7615e-04 - val_accuracy: 2.0149e-04\n",
      "Epoch 3/100\n",
      "1008/1008 [==============================] - 2s 2ms/step - loss: 2.4470e-04 - accuracy: 9.9246e-05 - val_loss: 2.2850e-04 - val_accuracy: 2.0149e-04\n",
      "Epoch 4/100\n",
      "1008/1008 [==============================] - 1s 1ms/step - loss: 2.1932e-04 - accuracy: 9.9246e-05 - val_loss: 2.1617e-04 - val_accuracy: 2.0149e-04\n",
      "Epoch 5/100\n",
      "1008/1008 [==============================] - 1s 1ms/step - loss: 2.1259e-04 - accuracy: 9.9246e-05 - val_loss: 2.0692e-04 - val_accuracy: 2.0149e-04\n",
      "Epoch 6/100\n",
      "1008/1008 [==============================] - 2s 2ms/step - loss: 2.0574e-04 - accuracy: 9.9246e-05 - val_loss: 2.0355e-04 - val_accuracy: 2.0149e-04\n",
      "Epoch 7/100\n",
      "1008/1008 [==============================] - 2s 2ms/step - loss: 1.9812e-04 - accuracy: 9.9246e-05 - val_loss: 1.7961e-04 - val_accuracy: 2.0149e-04\n",
      "Epoch 8/100\n",
      "1008/1008 [==============================] - 2s 2ms/step - loss: 1.9772e-04 - accuracy: 9.9246e-05 - val_loss: 2.3908e-04 - val_accuracy: 2.0149e-04\n",
      "Epoch 9/100\n",
      "1008/1008 [==============================] - 2s 2ms/step - loss: 1.9575e-04 - accuracy: 9.9246e-05 - val_loss: 1.7712e-04 - val_accuracy: 2.0149e-04\n",
      "Epoch 10/100\n",
      "1008/1008 [==============================] - 2s 2ms/step - loss: 1.9136e-04 - accuracy: 9.9246e-05 - val_loss: 1.5686e-04 - val_accuracy: 2.0149e-04\n",
      "Epoch 11/100\n",
      "1008/1008 [==============================] - 2s 2ms/step - loss: 1.8862e-04 - accuracy: 9.9246e-05 - val_loss: 1.5587e-04 - val_accuracy: 2.0149e-04\n",
      "Epoch 12/100\n",
      "1008/1008 [==============================] - 1s 1ms/step - loss: 1.8650e-04 - accuracy: 9.9246e-05 - val_loss: 1.7489e-04 - val_accuracy: 2.0149e-04\n",
      "Epoch 13/100\n",
      "1008/1008 [==============================] - 2s 2ms/step - loss: 1.8834e-04 - accuracy: 9.9246e-05 - val_loss: 2.3161e-04 - val_accuracy: 2.0149e-04\n",
      "Epoch 14/100\n",
      "1008/1008 [==============================] - 2s 2ms/step - loss: 1.8620e-04 - accuracy: 9.9246e-05 - val_loss: 1.5788e-04 - val_accuracy: 2.0149e-04\n",
      "Epoch 15/100\n",
      "1008/1008 [==============================] - 2s 2ms/step - loss: 1.8599e-04 - accuracy: 9.9246e-05 - val_loss: 1.6232e-04 - val_accuracy: 2.0149e-04\n",
      "Epoch 16/100\n",
      "1008/1008 [==============================] - 2s 2ms/step - loss: 1.8659e-04 - accuracy: 9.9246e-05 - val_loss: 1.9421e-04 - val_accuracy: 2.0149e-04\n",
      "Epoch 17/100\n",
      "1008/1008 [==============================] - 2s 2ms/step - loss: 1.8823e-04 - accuracy: 9.9246e-05 - val_loss: 1.4452e-04 - val_accuracy: 2.0149e-04\n",
      "Epoch 18/100\n",
      "1008/1008 [==============================] - 1s 1ms/step - loss: 1.8138e-04 - accuracy: 9.9246e-05 - val_loss: 1.5041e-04 - val_accuracy: 2.0149e-04\n",
      "Epoch 19/100\n",
      "1008/1008 [==============================] - 1s 1ms/step - loss: 1.8394e-04 - accuracy: 9.9246e-05 - val_loss: 1.5156e-04 - val_accuracy: 2.0149e-04\n",
      "Epoch 20/100\n",
      "1008/1008 [==============================] - 2s 2ms/step - loss: 1.8199e-04 - accuracy: 9.9246e-05 - val_loss: 1.8936e-04 - val_accuracy: 2.0149e-04\n",
      "Epoch 21/100\n",
      "1008/1008 [==============================] - 2s 2ms/step - loss: 1.8307e-04 - accuracy: 9.9246e-05 - val_loss: 1.5898e-04 - val_accuracy: 2.0149e-04\n",
      "Epoch 22/100\n",
      "1008/1008 [==============================] - 2s 2ms/step - loss: 1.7995e-04 - accuracy: 9.9246e-05 - val_loss: 1.6625e-04 - val_accuracy: 2.0149e-04\n",
      "Epoch 23/100\n",
      "1008/1008 [==============================] - 2s 2ms/step - loss: 1.8281e-04 - accuracy: 9.9246e-05 - val_loss: 1.4244e-04 - val_accuracy: 2.0149e-04\n",
      "Epoch 24/100\n",
      "1008/1008 [==============================] - 2s 2ms/step - loss: 1.8093e-04 - accuracy: 9.9246e-05 - val_loss: 1.4965e-04 - val_accuracy: 2.0149e-04\n",
      "Epoch 25/100\n",
      "1008/1008 [==============================] - 2s 2ms/step - loss: 1.7853e-04 - accuracy: 9.9246e-05 - val_loss: 1.5579e-04 - val_accuracy: 2.0149e-04\n",
      "Epoch 26/100\n",
      "1008/1008 [==============================] - 2s 2ms/step - loss: 1.7672e-04 - accuracy: 9.9246e-05 - val_loss: 1.6770e-04 - val_accuracy: 2.0149e-04\n",
      "Epoch 27/100\n",
      "1008/1008 [==============================] - 2s 2ms/step - loss: 1.7553e-04 - accuracy: 9.9246e-05 - val_loss: 1.2560e-04 - val_accuracy: 2.0149e-04\n",
      "Epoch 28/100\n",
      "1008/1008 [==============================] - 2s 2ms/step - loss: 1.8145e-04 - accuracy: 9.9246e-05 - val_loss: 1.5583e-04 - val_accuracy: 2.0149e-04\n",
      "Epoch 29/100\n",
      "1008/1008 [==============================] - 2s 2ms/step - loss: 1.8149e-04 - accuracy: 9.9246e-05 - val_loss: 1.5595e-04 - val_accuracy: 2.0149e-04\n",
      "Epoch 30/100\n",
      "1008/1008 [==============================] - 2s 2ms/step - loss: 1.7690e-04 - accuracy: 9.9246e-05 - val_loss: 1.5261e-04 - val_accuracy: 2.0149e-04\n",
      "Epoch 31/100\n",
      "1008/1008 [==============================] - 1s 1ms/step - loss: 1.7912e-04 - accuracy: 9.9246e-05 - val_loss: 1.6218e-04 - val_accuracy: 2.0149e-04\n",
      "Epoch 32/100\n",
      "1008/1008 [==============================] - 1s 1ms/step - loss: 1.7896e-04 - accuracy: 9.9246e-05 - val_loss: 1.5394e-04 - val_accuracy: 2.0149e-04\n",
      "Epoch 33/100\n",
      "1008/1008 [==============================] - 1s 1ms/step - loss: 1.8056e-04 - accuracy: 9.9246e-05 - val_loss: 1.3789e-04 - val_accuracy: 2.0149e-04\n",
      "Epoch 34/100\n",
      "1008/1008 [==============================] - 1s 1ms/step - loss: 1.7719e-04 - accuracy: 9.9246e-05 - val_loss: 1.3833e-04 - val_accuracy: 2.0149e-04\n",
      "Epoch 35/100\n",
      "1008/1008 [==============================] - 1s 1ms/step - loss: 1.8115e-04 - accuracy: 9.9246e-05 - val_loss: 1.7900e-04 - val_accuracy: 2.0149e-04\n",
      "Epoch 36/100\n",
      "1008/1008 [==============================] - 1s 1ms/step - loss: 1.7585e-04 - accuracy: 9.9246e-05 - val_loss: 1.6651e-04 - val_accuracy: 2.0149e-04\n",
      "Epoch 37/100\n",
      "1008/1008 [==============================] - 1s 1ms/step - loss: 1.7541e-04 - accuracy: 9.9246e-05 - val_loss: 1.6762e-04 - val_accuracy: 2.0149e-04\n",
      "Epoch 38/100\n",
      "1008/1008 [==============================] - 1s 1ms/step - loss: 1.7673e-04 - accuracy: 9.9246e-05 - val_loss: 1.3918e-04 - val_accuracy: 2.0149e-04\n",
      "Epoch 39/100\n",
      "1008/1008 [==============================] - 1s 1ms/step - loss: 1.7034e-04 - accuracy: 9.9246e-05 - val_loss: 2.1225e-04 - val_accuracy: 2.0149e-04\n",
      "Epoch 40/100\n",
      "1008/1008 [==============================] - 2s 2ms/step - loss: 1.3014e-04 - accuracy: 9.9246e-05 - val_loss: 1.4975e-04 - val_accuracy: 2.0149e-04\n",
      "Epoch 41/100\n",
      "1008/1008 [==============================] - 2s 2ms/step - loss: 1.1728e-04 - accuracy: 9.9246e-05 - val_loss: 1.0946e-04 - val_accuracy: 2.0149e-04\n",
      "Epoch 42/100\n",
      "1008/1008 [==============================] - 2s 2ms/step - loss: 1.1157e-04 - accuracy: 9.9246e-05 - val_loss: 1.8298e-04 - val_accuracy: 2.0149e-04\n",
      "Epoch 43/100\n",
      "1008/1008 [==============================] - 2s 2ms/step - loss: 1.1088e-04 - accuracy: 9.9246e-05 - val_loss: 1.2976e-04 - val_accuracy: 2.0149e-04\n",
      "Epoch 44/100\n",
      "1008/1008 [==============================] - 2s 2ms/step - loss: 1.0722e-04 - accuracy: 9.9246e-05 - val_loss: 1.7737e-04 - val_accuracy: 2.0149e-04\n",
      "Epoch 45/100\n",
      "1008/1008 [==============================] - 2s 2ms/step - loss: 1.0671e-04 - accuracy: 9.9246e-05 - val_loss: 9.9065e-05 - val_accuracy: 2.0149e-04\n",
      "Epoch 46/100\n",
      "1008/1008 [==============================] - 2s 2ms/step - loss: 1.0335e-04 - accuracy: 9.9246e-05 - val_loss: 1.1230e-04 - val_accuracy: 2.0149e-04\n",
      "Epoch 47/100\n",
      "1008/1008 [==============================] - 2s 2ms/step - loss: 1.0295e-04 - accuracy: 9.9246e-05 - val_loss: 1.2038e-04 - val_accuracy: 2.0149e-04\n",
      "Epoch 48/100\n",
      "1008/1008 [==============================] - 2s 2ms/step - loss: 1.0255e-04 - accuracy: 9.9246e-05 - val_loss: 1.0938e-04 - val_accuracy: 2.0149e-04\n",
      "Epoch 49/100\n",
      "1008/1008 [==============================] - 2s 2ms/step - loss: 1.0372e-04 - accuracy: 9.9246e-05 - val_loss: 1.1782e-04 - val_accuracy: 2.0149e-04\n",
      "Epoch 50/100\n",
      "1008/1008 [==============================] - 2s 2ms/step - loss: 1.0343e-04 - accuracy: 9.9246e-05 - val_loss: 1.0265e-04 - val_accuracy: 2.0149e-04\n",
      "Epoch 51/100\n"
     ]
    },
    {
     "name": "stdout",
     "output_type": "stream",
     "text": [
      "1008/1008 [==============================] - 2s 2ms/step - loss: 1.0033e-04 - accuracy: 9.9246e-05 - val_loss: 9.3710e-05 - val_accuracy: 2.0149e-04\n",
      "Epoch 52/100\n",
      "1008/1008 [==============================] - 2s 2ms/step - loss: 9.9368e-05 - accuracy: 9.9246e-05 - val_loss: 1.1863e-04 - val_accuracy: 2.0149e-04\n",
      "Epoch 53/100\n",
      "1008/1008 [==============================] - 2s 2ms/step - loss: 9.9623e-05 - accuracy: 9.9246e-05 - val_loss: 1.5097e-04 - val_accuracy: 2.0149e-04\n",
      "Epoch 54/100\n",
      "1008/1008 [==============================] - 2s 2ms/step - loss: 1.0163e-04 - accuracy: 9.9246e-05 - val_loss: 9.7813e-05 - val_accuracy: 2.0149e-04\n",
      "Epoch 55/100\n",
      "1008/1008 [==============================] - 2s 2ms/step - loss: 9.8532e-05 - accuracy: 9.9246e-05 - val_loss: 1.0716e-04 - val_accuracy: 2.0149e-04\n",
      "Epoch 56/100\n",
      "1008/1008 [==============================] - 2s 2ms/step - loss: 9.8511e-05 - accuracy: 9.9246e-05 - val_loss: 1.1167e-04 - val_accuracy: 2.0149e-04\n",
      "Epoch 57/100\n",
      "1008/1008 [==============================] - 2s 2ms/step - loss: 1.0001e-04 - accuracy: 9.9246e-05 - val_loss: 9.5558e-05 - val_accuracy: 2.0149e-04\n",
      "Epoch 58/100\n",
      "1008/1008 [==============================] - 2s 2ms/step - loss: 9.9829e-05 - accuracy: 9.9246e-05 - val_loss: 2.3126e-04 - val_accuracy: 2.0149e-04\n",
      "Epoch 59/100\n",
      "1008/1008 [==============================] - 2s 2ms/step - loss: 9.9115e-05 - accuracy: 9.9246e-05 - val_loss: 9.9865e-05 - val_accuracy: 2.0149e-04\n",
      "Epoch 60/100\n",
      "1008/1008 [==============================] - 2s 2ms/step - loss: 9.8395e-05 - accuracy: 9.9246e-05 - val_loss: 1.0062e-04 - val_accuracy: 2.0149e-04\n",
      "Epoch 61/100\n",
      "1008/1008 [==============================] - 2s 2ms/step - loss: 9.5724e-05 - accuracy: 9.9246e-05 - val_loss: 9.3004e-05 - val_accuracy: 2.0149e-04\n",
      "Epoch 62/100\n",
      "1008/1008 [==============================] - 2s 2ms/step - loss: 9.7982e-05 - accuracy: 9.9246e-05 - val_loss: 9.9338e-05 - val_accuracy: 2.0149e-04\n",
      "Epoch 63/100\n",
      "1008/1008 [==============================] - 2s 2ms/step - loss: 9.9543e-05 - accuracy: 9.9246e-05 - val_loss: 1.4794e-04 - val_accuracy: 2.0149e-04\n",
      "Epoch 64/100\n",
      "1008/1008 [==============================] - 1s 1ms/step - loss: 9.5099e-05 - accuracy: 9.9246e-05 - val_loss: 1.0150e-04 - val_accuracy: 2.0149e-04\n",
      "Epoch 65/100\n",
      "1008/1008 [==============================] - 1s 1ms/step - loss: 9.6477e-05 - accuracy: 9.9246e-05 - val_loss: 1.0082e-04 - val_accuracy: 2.0149e-04\n",
      "Epoch 66/100\n",
      "1008/1008 [==============================] - 2s 2ms/step - loss: 9.7140e-05 - accuracy: 9.9246e-05 - val_loss: 9.6195e-05 - val_accuracy: 2.0149e-04\n",
      "Epoch 67/100\n",
      "1008/1008 [==============================] - 2s 2ms/step - loss: 9.6960e-05 - accuracy: 9.9246e-05 - val_loss: 9.6884e-05 - val_accuracy: 2.0149e-04\n",
      "Epoch 68/100\n",
      "1008/1008 [==============================] - 2s 2ms/step - loss: 9.7835e-05 - accuracy: 9.9246e-05 - val_loss: 1.0973e-04 - val_accuracy: 2.0149e-04\n",
      "Epoch 69/100\n",
      "1008/1008 [==============================] - 2s 2ms/step - loss: 9.2319e-05 - accuracy: 9.9246e-05 - val_loss: 1.0396e-04 - val_accuracy: 2.0149e-04\n",
      "Epoch 70/100\n",
      "1008/1008 [==============================] - 2s 2ms/step - loss: 9.4717e-05 - accuracy: 9.9246e-05 - val_loss: 1.2428e-04 - val_accuracy: 2.0149e-04\n",
      "Epoch 71/100\n",
      "1008/1008 [==============================] - 2s 2ms/step - loss: 9.6354e-05 - accuracy: 9.9246e-05 - val_loss: 1.1844e-04 - val_accuracy: 2.0149e-04\n",
      "Epoch 72/100\n",
      "1008/1008 [==============================] - 1s 1ms/step - loss: 9.4250e-05 - accuracy: 9.9246e-05 - val_loss: 9.4529e-05 - val_accuracy: 2.0149e-04\n",
      "Epoch 73/100\n",
      "1008/1008 [==============================] - 1s 1ms/step - loss: 9.6954e-05 - accuracy: 9.9246e-05 - val_loss: 1.4812e-04 - val_accuracy: 2.0149e-04\n",
      "Epoch 74/100\n",
      "1008/1008 [==============================] - 1s 1ms/step - loss: 9.2727e-05 - accuracy: 9.9246e-05 - val_loss: 1.3132e-04 - val_accuracy: 2.0149e-04\n",
      "Epoch 75/100\n",
      "1008/1008 [==============================] - 2s 2ms/step - loss: 9.4530e-05 - accuracy: 9.9246e-05 - val_loss: 9.3359e-05 - val_accuracy: 2.0149e-04\n",
      "Epoch 76/100\n",
      "1008/1008 [==============================] - 2s 2ms/step - loss: 9.3361e-05 - accuracy: 9.9246e-05 - val_loss: 1.0448e-04 - val_accuracy: 2.0149e-04\n",
      "Epoch 77/100\n",
      "1008/1008 [==============================] - 1s 1ms/step - loss: 9.2699e-05 - accuracy: 9.9246e-05 - val_loss: 9.9991e-05 - val_accuracy: 2.0149e-04\n",
      "Epoch 78/100\n",
      "1008/1008 [==============================] - 2s 2ms/step - loss: 9.1762e-05 - accuracy: 9.9246e-05 - val_loss: 1.4247e-04 - val_accuracy: 2.0149e-04\n",
      "Epoch 79/100\n",
      "1008/1008 [==============================] - 2s 2ms/step - loss: 9.2668e-05 - accuracy: 9.9246e-05 - val_loss: 1.0836e-04 - val_accuracy: 2.0149e-04\n",
      "Epoch 80/100\n",
      "1008/1008 [==============================] - 2s 2ms/step - loss: 9.3233e-05 - accuracy: 9.9246e-05 - val_loss: 9.7699e-05 - val_accuracy: 2.0149e-04\n",
      "Epoch 81/100\n",
      "1008/1008 [==============================] - 2s 2ms/step - loss: 9.1657e-05 - accuracy: 9.9246e-05 - val_loss: 9.7191e-05 - val_accuracy: 2.0149e-04\n",
      "Epoch 82/100\n",
      "1008/1008 [==============================] - 2s 2ms/step - loss: 9.2635e-05 - accuracy: 9.9246e-05 - val_loss: 1.0100e-04 - val_accuracy: 2.0149e-04\n",
      "Epoch 83/100\n",
      "1008/1008 [==============================] - 2s 2ms/step - loss: 9.2781e-05 - accuracy: 9.9246e-05 - val_loss: 1.0976e-04 - val_accuracy: 2.0149e-04\n",
      "Epoch 84/100\n",
      "1008/1008 [==============================] - 2s 2ms/step - loss: 9.1002e-05 - accuracy: 9.9246e-05 - val_loss: 9.8233e-05 - val_accuracy: 2.0149e-04\n",
      "Epoch 85/100\n",
      "1008/1008 [==============================] - 2s 2ms/step - loss: 9.2293e-05 - accuracy: 9.9246e-05 - val_loss: 9.9673e-05 - val_accuracy: 2.0149e-04\n",
      "Epoch 86/100\n",
      "1008/1008 [==============================] - 1s 1ms/step - loss: 9.0767e-05 - accuracy: 9.9246e-05 - val_loss: 9.7426e-05 - val_accuracy: 2.0149e-04\n",
      "Epoch 87/100\n",
      "1008/1008 [==============================] - 1s 1ms/step - loss: 9.1656e-05 - accuracy: 9.9246e-05 - val_loss: 1.0359e-04 - val_accuracy: 2.0149e-04\n",
      "Epoch 88/100\n",
      "1008/1008 [==============================] - 1s 1ms/step - loss: 9.2717e-05 - accuracy: 9.9246e-05 - val_loss: 9.2561e-05 - val_accuracy: 2.0149e-04\n",
      "Epoch 89/100\n",
      "1008/1008 [==============================] - 1s 1ms/step - loss: 9.2264e-05 - accuracy: 9.9246e-05 - val_loss: 1.0469e-04 - val_accuracy: 2.0149e-04\n",
      "Epoch 90/100\n",
      "1008/1008 [==============================] - 1s 1ms/step - loss: 9.1573e-05 - accuracy: 9.9246e-05 - val_loss: 1.0510e-04 - val_accuracy: 2.0149e-04\n",
      "Epoch 91/100\n",
      "1008/1008 [==============================] - 1s 1ms/step - loss: 9.0368e-05 - accuracy: 9.9246e-05 - val_loss: 9.8678e-05 - val_accuracy: 2.0149e-04\n",
      "Epoch 92/100\n",
      "1008/1008 [==============================] - 1s 1ms/step - loss: 8.9908e-05 - accuracy: 9.9246e-05 - val_loss: 1.1436e-04 - val_accuracy: 2.0149e-04\n",
      "Epoch 93/100\n",
      "1008/1008 [==============================] - 1s 1ms/step - loss: 9.1879e-05 - accuracy: 9.9246e-05 - val_loss: 9.7791e-05 - val_accuracy: 2.0149e-04\n",
      "Epoch 94/100\n",
      "1008/1008 [==============================] - 2s 2ms/step - loss: 8.9802e-05 - accuracy: 9.9246e-05 - val_loss: 1.0056e-04 - val_accuracy: 2.0149e-04\n",
      "Epoch 95/100\n",
      "1008/1008 [==============================] - 2s 2ms/step - loss: 8.9911e-05 - accuracy: 9.9246e-05 - val_loss: 9.7633e-05 - val_accuracy: 2.0149e-04\n",
      "Epoch 96/100\n",
      "1008/1008 [==============================] - 2s 2ms/step - loss: 9.2664e-05 - accuracy: 9.9246e-05 - val_loss: 1.0032e-04 - val_accuracy: 2.0149e-04\n",
      "Epoch 97/100\n",
      "1008/1008 [==============================] - 2s 2ms/step - loss: 9.0066e-05 - accuracy: 9.9246e-05 - val_loss: 1.0529e-04 - val_accuracy: 2.0149e-04\n",
      "Epoch 98/100\n",
      "1008/1008 [==============================] - 2s 2ms/step - loss: 8.9977e-05 - accuracy: 9.9246e-05 - val_loss: 9.3593e-05 - val_accuracy: 2.0149e-04\n",
      "Epoch 99/100\n",
      "1008/1008 [==============================] - 2s 2ms/step - loss: 8.9886e-05 - accuracy: 9.9246e-05 - val_loss: 1.1916e-04 - val_accuracy: 2.0149e-04\n",
      "Epoch 100/100\n",
      "1008/1008 [==============================] - 2s 2ms/step - loss: 9.0813e-05 - accuracy: 9.9246e-05 - val_loss: 1.0062e-04 - val_accuracy: 2.0149e-04\n"
     ]
    },
    {
     "data": {
      "text/plain": [
       "<keras.callbacks.History at 0x245ddf157f0>"
      ]
     },
     "execution_count": 14,
     "metadata": {},
     "output_type": "execute_result"
    }
   ],
   "source": [
    "model.fit(X, Y, validation_split=0.33, epochs=100, batch_size=10)"
   ]
  },
  {
   "cell_type": "code",
   "execution_count": 15,
   "id": "7ad8a952",
   "metadata": {
    "ExecuteTime": {
     "end_time": "2023-03-25T17:34:21.853467Z",
     "start_time": "2023-03-25T17:34:20.675312Z"
    }
   },
   "outputs": [
    {
     "name": "stdout",
     "output_type": "stream",
     "text": [
      "470/470 [==============================] - 1s 1ms/step - loss: 8.8333e-05 - accuracy: 1.3299e-04\n",
      "accuracy: 0.01%\n"
     ]
    }
   ],
   "source": [
    "scores = model.evaluate(X, Y)\n",
    "print(\"%s: %.2f%%\" % (model.metrics_names[1], scores[1]*100))"
   ]
  },
  {
   "cell_type": "code",
   "execution_count": 16,
   "id": "a5e5ca1f",
   "metadata": {
    "ExecuteTime": {
     "end_time": "2023-03-25T17:37:32.139367Z",
     "start_time": "2023-03-25T17:34:26.856084Z"
    }
   },
   "outputs": [
    {
     "name": "stdout",
     "output_type": "stream",
     "text": [
      "Epoch 1/100\n",
      "1008/1008 [==============================] - 2s 2ms/step - loss: 9.0385e-05 - accuracy: 9.9246e-05 - val_loss: 9.9610e-05 - val_accuracy: 2.0149e-04\n",
      "Epoch 2/100\n",
      "1008/1008 [==============================] - 2s 2ms/step - loss: 9.0625e-05 - accuracy: 9.9246e-05 - val_loss: 1.4977e-04 - val_accuracy: 2.0149e-04\n",
      "Epoch 3/100\n",
      "1008/1008 [==============================] - 2s 2ms/step - loss: 8.9480e-05 - accuracy: 9.9246e-05 - val_loss: 9.6000e-05 - val_accuracy: 2.0149e-04\n",
      "Epoch 4/100\n",
      "1008/1008 [==============================] - 2s 2ms/step - loss: 9.0170e-05 - accuracy: 9.9246e-05 - val_loss: 1.0453e-04 - val_accuracy: 2.0149e-04\n",
      "Epoch 5/100\n",
      "1008/1008 [==============================] - 2s 2ms/step - loss: 8.7275e-05 - accuracy: 9.9246e-05 - val_loss: 1.1436e-04 - val_accuracy: 2.0149e-04\n",
      "Epoch 6/100\n",
      "1008/1008 [==============================] - 2s 2ms/step - loss: 8.8515e-05 - accuracy: 9.9246e-05 - val_loss: 1.1518e-04 - val_accuracy: 2.0149e-04\n",
      "Epoch 7/100\n",
      "1008/1008 [==============================] - 2s 2ms/step - loss: 8.8466e-05 - accuracy: 9.9246e-05 - val_loss: 1.4883e-04 - val_accuracy: 2.0149e-04\n",
      "Epoch 8/100\n",
      "1008/1008 [==============================] - 2s 2ms/step - loss: 8.7958e-05 - accuracy: 9.9246e-05 - val_loss: 1.4758e-04 - val_accuracy: 2.0149e-04\n",
      "Epoch 9/100\n",
      "1008/1008 [==============================] - 2s 2ms/step - loss: 8.7400e-05 - accuracy: 9.9246e-05 - val_loss: 9.6271e-05 - val_accuracy: 2.0149e-04\n",
      "Epoch 10/100\n",
      "1008/1008 [==============================] - 2s 2ms/step - loss: 8.9532e-05 - accuracy: 9.9246e-05 - val_loss: 1.1855e-04 - val_accuracy: 2.0149e-04\n",
      "Epoch 11/100\n",
      "1008/1008 [==============================] - 2s 2ms/step - loss: 8.8181e-05 - accuracy: 9.9246e-05 - val_loss: 1.0182e-04 - val_accuracy: 2.0149e-04\n",
      "Epoch 12/100\n",
      "1008/1008 [==============================] - 2s 2ms/step - loss: 9.0286e-05 - accuracy: 9.9246e-05 - val_loss: 9.8343e-05 - val_accuracy: 2.0149e-04\n",
      "Epoch 13/100\n",
      "1008/1008 [==============================] - 2s 2ms/step - loss: 8.8193e-05 - accuracy: 9.9246e-05 - val_loss: 9.4964e-05 - val_accuracy: 2.0149e-04\n",
      "Epoch 14/100\n",
      "1008/1008 [==============================] - 2s 2ms/step - loss: 8.7224e-05 - accuracy: 9.9246e-05 - val_loss: 9.8931e-05 - val_accuracy: 2.0149e-04\n",
      "Epoch 15/100\n",
      "1008/1008 [==============================] - 2s 2ms/step - loss: 8.9778e-05 - accuracy: 9.9246e-05 - val_loss: 1.4203e-04 - val_accuracy: 2.0149e-04\n",
      "Epoch 16/100\n",
      "1008/1008 [==============================] - 2s 2ms/step - loss: 8.7535e-05 - accuracy: 9.9246e-05 - val_loss: 1.3636e-04 - val_accuracy: 2.0149e-04\n",
      "Epoch 17/100\n",
      "1008/1008 [==============================] - 2s 2ms/step - loss: 9.0345e-05 - accuracy: 9.9246e-05 - val_loss: 1.0446e-04 - val_accuracy: 2.0149e-04\n",
      "Epoch 18/100\n",
      "1008/1008 [==============================] - 2s 2ms/step - loss: 8.7672e-05 - accuracy: 9.9246e-05 - val_loss: 9.3613e-05 - val_accuracy: 2.0149e-04\n",
      "Epoch 19/100\n",
      "1008/1008 [==============================] - 2s 2ms/step - loss: 8.9594e-05 - accuracy: 9.9246e-05 - val_loss: 9.4862e-05 - val_accuracy: 2.0149e-04\n",
      "Epoch 20/100\n",
      "1008/1008 [==============================] - 2s 2ms/step - loss: 8.7152e-05 - accuracy: 9.9246e-05 - val_loss: 1.1920e-04 - val_accuracy: 2.0149e-04\n",
      "Epoch 21/100\n",
      "1008/1008 [==============================] - 2s 2ms/step - loss: 8.8660e-05 - accuracy: 9.9246e-05 - val_loss: 1.0119e-04 - val_accuracy: 2.0149e-04\n",
      "Epoch 22/100\n",
      "1008/1008 [==============================] - 2s 2ms/step - loss: 8.6552e-05 - accuracy: 9.9246e-05 - val_loss: 9.4596e-05 - val_accuracy: 2.0149e-04\n",
      "Epoch 23/100\n",
      "1008/1008 [==============================] - 2s 2ms/step - loss: 8.7968e-05 - accuracy: 9.9246e-05 - val_loss: 1.1761e-04 - val_accuracy: 2.0149e-04\n",
      "Epoch 24/100\n",
      "1008/1008 [==============================] - 2s 2ms/step - loss: 8.6129e-05 - accuracy: 9.9246e-05 - val_loss: 9.5332e-05 - val_accuracy: 2.0149e-04\n",
      "Epoch 25/100\n",
      "1008/1008 [==============================] - 2s 2ms/step - loss: 8.7265e-05 - accuracy: 9.9246e-05 - val_loss: 9.2970e-05 - val_accuracy: 2.0149e-04\n",
      "Epoch 26/100\n",
      "1008/1008 [==============================] - 2s 2ms/step - loss: 8.7042e-05 - accuracy: 9.9246e-05 - val_loss: 9.5511e-05 - val_accuracy: 2.0149e-04\n",
      "Epoch 27/100\n",
      "1008/1008 [==============================] - 2s 2ms/step - loss: 8.8227e-05 - accuracy: 9.9246e-05 - val_loss: 9.4199e-05 - val_accuracy: 2.0149e-04\n",
      "Epoch 28/100\n",
      "1008/1008 [==============================] - 2s 2ms/step - loss: 8.8839e-05 - accuracy: 9.9246e-05 - val_loss: 9.3144e-05 - val_accuracy: 2.0149e-04\n",
      "Epoch 29/100\n",
      "1008/1008 [==============================] - 2s 2ms/step - loss: 8.7755e-05 - accuracy: 9.9246e-05 - val_loss: 9.1919e-05 - val_accuracy: 2.0149e-04\n",
      "Epoch 30/100\n",
      "1008/1008 [==============================] - 2s 2ms/step - loss: 8.7382e-05 - accuracy: 9.9246e-05 - val_loss: 1.0820e-04 - val_accuracy: 2.0149e-04\n",
      "Epoch 31/100\n",
      "1008/1008 [==============================] - 2s 2ms/step - loss: 8.6265e-05 - accuracy: 9.9246e-05 - val_loss: 9.6141e-05 - val_accuracy: 2.0149e-04\n",
      "Epoch 32/100\n",
      "1008/1008 [==============================] - 2s 2ms/step - loss: 8.7534e-05 - accuracy: 9.9246e-05 - val_loss: 1.3737e-04 - val_accuracy: 2.0149e-04\n",
      "Epoch 33/100\n",
      "1008/1008 [==============================] - 2s 2ms/step - loss: 8.7957e-05 - accuracy: 9.9246e-05 - val_loss: 9.7748e-05 - val_accuracy: 2.0149e-04\n",
      "Epoch 34/100\n",
      "1008/1008 [==============================] - 2s 2ms/step - loss: 8.6824e-05 - accuracy: 9.9246e-05 - val_loss: 9.9245e-05 - val_accuracy: 2.0149e-04\n",
      "Epoch 35/100\n",
      "1008/1008 [==============================] - 2s 2ms/step - loss: 9.0498e-05 - accuracy: 9.9246e-05 - val_loss: 1.0361e-04 - val_accuracy: 2.0149e-04\n",
      "Epoch 36/100\n",
      "1008/1008 [==============================] - 2s 2ms/step - loss: 8.6643e-05 - accuracy: 9.9246e-05 - val_loss: 1.0386e-04 - val_accuracy: 2.0149e-04\n",
      "Epoch 37/100\n",
      "1008/1008 [==============================] - 2s 2ms/step - loss: 8.4836e-05 - accuracy: 9.9246e-05 - val_loss: 9.3621e-05 - val_accuracy: 2.0149e-04\n",
      "Epoch 38/100\n",
      "1008/1008 [==============================] - 2s 2ms/step - loss: 8.5458e-05 - accuracy: 9.9246e-05 - val_loss: 9.7698e-05 - val_accuracy: 2.0149e-04\n",
      "Epoch 39/100\n",
      "1008/1008 [==============================] - 2s 2ms/step - loss: 8.6607e-05 - accuracy: 9.9246e-05 - val_loss: 9.7415e-05 - val_accuracy: 2.0149e-04\n",
      "Epoch 40/100\n",
      "1008/1008 [==============================] - 2s 2ms/step - loss: 8.7232e-05 - accuracy: 9.9246e-05 - val_loss: 1.1311e-04 - val_accuracy: 2.0149e-04\n",
      "Epoch 41/100\n",
      "1008/1008 [==============================] - 2s 2ms/step - loss: 8.8191e-05 - accuracy: 9.9246e-05 - val_loss: 8.9405e-05 - val_accuracy: 2.0149e-04\n",
      "Epoch 42/100\n",
      "1008/1008 [==============================] - 2s 2ms/step - loss: 8.6790e-05 - accuracy: 9.9246e-05 - val_loss: 9.8799e-05 - val_accuracy: 2.0149e-04\n",
      "Epoch 43/100\n",
      "1008/1008 [==============================] - 2s 2ms/step - loss: 8.7463e-05 - accuracy: 9.9246e-05 - val_loss: 9.6039e-05 - val_accuracy: 2.0149e-04\n",
      "Epoch 44/100\n",
      "1008/1008 [==============================] - 2s 2ms/step - loss: 8.6900e-05 - accuracy: 9.9246e-05 - val_loss: 1.2351e-04 - val_accuracy: 2.0149e-04\n",
      "Epoch 45/100\n",
      "1008/1008 [==============================] - 2s 2ms/step - loss: 8.6788e-05 - accuracy: 9.9246e-05 - val_loss: 1.0875e-04 - val_accuracy: 2.0149e-04\n",
      "Epoch 46/100\n",
      "1008/1008 [==============================] - 2s 2ms/step - loss: 8.6946e-05 - accuracy: 9.9246e-05 - val_loss: 9.7395e-05 - val_accuracy: 2.0149e-04\n",
      "Epoch 47/100\n",
      "1008/1008 [==============================] - 2s 2ms/step - loss: 8.7815e-05 - accuracy: 9.9246e-05 - val_loss: 1.1173e-04 - val_accuracy: 2.0149e-04\n",
      "Epoch 48/100\n",
      "1008/1008 [==============================] - 2s 2ms/step - loss: 8.6735e-05 - accuracy: 9.9246e-05 - val_loss: 9.1524e-05 - val_accuracy: 2.0149e-04\n",
      "Epoch 49/100\n",
      "1008/1008 [==============================] - 2s 2ms/step - loss: 8.5344e-05 - accuracy: 9.9246e-05 - val_loss: 9.4215e-05 - val_accuracy: 2.0149e-04\n",
      "Epoch 50/100\n",
      "1008/1008 [==============================] - 2s 2ms/step - loss: 8.5207e-05 - accuracy: 9.9246e-05 - val_loss: 9.7610e-05 - val_accuracy: 2.0149e-04\n",
      "Epoch 51/100\n"
     ]
    },
    {
     "name": "stdout",
     "output_type": "stream",
     "text": [
      "1008/1008 [==============================] - 2s 2ms/step - loss: 8.5059e-05 - accuracy: 9.9246e-05 - val_loss: 1.1057e-04 - val_accuracy: 2.0149e-04\n",
      "Epoch 52/100\n",
      "1008/1008 [==============================] - 2s 2ms/step - loss: 8.5339e-05 - accuracy: 9.9246e-05 - val_loss: 1.1119e-04 - val_accuracy: 2.0149e-04\n",
      "Epoch 53/100\n",
      "1008/1008 [==============================] - 1s 1ms/step - loss: 8.6057e-05 - accuracy: 9.9246e-05 - val_loss: 8.9965e-05 - val_accuracy: 2.0149e-04\n",
      "Epoch 54/100\n",
      "1008/1008 [==============================] - 2s 2ms/step - loss: 8.5914e-05 - accuracy: 9.9246e-05 - val_loss: 9.4810e-05 - val_accuracy: 2.0149e-04\n",
      "Epoch 55/100\n",
      "1008/1008 [==============================] - 2s 2ms/step - loss: 8.5992e-05 - accuracy: 9.9246e-05 - val_loss: 9.5392e-05 - val_accuracy: 2.0149e-04\n",
      "Epoch 56/100\n",
      "1008/1008 [==============================] - 2s 2ms/step - loss: 8.7069e-05 - accuracy: 9.9246e-05 - val_loss: 9.6027e-05 - val_accuracy: 2.0149e-04\n",
      "Epoch 57/100\n",
      "1008/1008 [==============================] - 2s 2ms/step - loss: 8.7949e-05 - accuracy: 9.9246e-05 - val_loss: 9.6870e-05 - val_accuracy: 2.0149e-04\n",
      "Epoch 58/100\n",
      "1008/1008 [==============================] - 2s 2ms/step - loss: 8.5988e-05 - accuracy: 9.9246e-05 - val_loss: 9.8917e-05 - val_accuracy: 2.0149e-04\n",
      "Epoch 59/100\n",
      "1008/1008 [==============================] - 2s 2ms/step - loss: 8.6038e-05 - accuracy: 9.9246e-05 - val_loss: 1.0077e-04 - val_accuracy: 2.0149e-04\n",
      "Epoch 60/100\n",
      "1008/1008 [==============================] - 1s 1ms/step - loss: 8.4581e-05 - accuracy: 9.9246e-05 - val_loss: 1.1210e-04 - val_accuracy: 2.0149e-04\n",
      "Epoch 61/100\n",
      "1008/1008 [==============================] - 1s 1ms/step - loss: 8.5517e-05 - accuracy: 9.9246e-05 - val_loss: 9.4039e-05 - val_accuracy: 2.0149e-04\n",
      "Epoch 62/100\n",
      "1008/1008 [==============================] - 1s 1ms/step - loss: 8.6215e-05 - accuracy: 9.9246e-05 - val_loss: 9.7140e-05 - val_accuracy: 2.0149e-04\n",
      "Epoch 63/100\n",
      "1008/1008 [==============================] - 2s 2ms/step - loss: 8.7314e-05 - accuracy: 9.9246e-05 - val_loss: 9.9429e-05 - val_accuracy: 2.0149e-04\n",
      "Epoch 64/100\n",
      "1008/1008 [==============================] - 2s 2ms/step - loss: 8.2805e-05 - accuracy: 9.9246e-05 - val_loss: 9.5607e-05 - val_accuracy: 2.0149e-04\n",
      "Epoch 65/100\n",
      "1008/1008 [==============================] - 2s 2ms/step - loss: 8.7516e-05 - accuracy: 9.9246e-05 - val_loss: 1.3411e-04 - val_accuracy: 2.0149e-04\n",
      "Epoch 66/100\n",
      "1008/1008 [==============================] - 2s 2ms/step - loss: 8.4461e-05 - accuracy: 9.9246e-05 - val_loss: 1.2145e-04 - val_accuracy: 2.0149e-04\n",
      "Epoch 67/100\n",
      "1008/1008 [==============================] - 2s 2ms/step - loss: 8.6481e-05 - accuracy: 9.9246e-05 - val_loss: 1.3181e-04 - val_accuracy: 2.0149e-04\n",
      "Epoch 68/100\n",
      "1008/1008 [==============================] - 2s 2ms/step - loss: 8.5253e-05 - accuracy: 9.9246e-05 - val_loss: 9.4502e-05 - val_accuracy: 2.0149e-04\n",
      "Epoch 69/100\n",
      "1008/1008 [==============================] - 2s 2ms/step - loss: 8.4523e-05 - accuracy: 9.9246e-05 - val_loss: 9.8064e-05 - val_accuracy: 2.0149e-04\n",
      "Epoch 70/100\n",
      "1008/1008 [==============================] - 2s 2ms/step - loss: 8.6135e-05 - accuracy: 9.9246e-05 - val_loss: 1.3115e-04 - val_accuracy: 2.0149e-04\n",
      "Epoch 71/100\n",
      "1008/1008 [==============================] - 2s 2ms/step - loss: 8.6054e-05 - accuracy: 9.9246e-05 - val_loss: 9.7677e-05 - val_accuracy: 2.0149e-04\n",
      "Epoch 72/100\n",
      "1008/1008 [==============================] - 2s 2ms/step - loss: 8.4840e-05 - accuracy: 9.9246e-05 - val_loss: 9.5152e-05 - val_accuracy: 2.0149e-04\n",
      "Epoch 73/100\n",
      "1008/1008 [==============================] - 2s 2ms/step - loss: 8.5421e-05 - accuracy: 9.9246e-05 - val_loss: 9.2579e-05 - val_accuracy: 2.0149e-04\n",
      "Epoch 74/100\n",
      "1008/1008 [==============================] - 2s 2ms/step - loss: 8.5708e-05 - accuracy: 9.9246e-05 - val_loss: 9.3696e-05 - val_accuracy: 2.0149e-04\n",
      "Epoch 75/100\n",
      "1008/1008 [==============================] - 2s 2ms/step - loss: 8.3059e-05 - accuracy: 9.9246e-05 - val_loss: 9.7498e-05 - val_accuracy: 2.0149e-04\n",
      "Epoch 76/100\n",
      "1008/1008 [==============================] - 2s 2ms/step - loss: 8.4585e-05 - accuracy: 9.9246e-05 - val_loss: 9.9354e-05 - val_accuracy: 2.0149e-04\n",
      "Epoch 77/100\n",
      "1008/1008 [==============================] - 2s 2ms/step - loss: 8.5211e-05 - accuracy: 9.9246e-05 - val_loss: 1.0522e-04 - val_accuracy: 2.0149e-04\n",
      "Epoch 78/100\n",
      "1008/1008 [==============================] - 2s 2ms/step - loss: 8.4088e-05 - accuracy: 9.9246e-05 - val_loss: 8.7861e-05 - val_accuracy: 2.0149e-04\n",
      "Epoch 79/100\n",
      "1008/1008 [==============================] - 2s 2ms/step - loss: 8.5488e-05 - accuracy: 9.9246e-05 - val_loss: 8.8735e-05 - val_accuracy: 2.0149e-04\n",
      "Epoch 80/100\n",
      "1008/1008 [==============================] - 2s 2ms/step - loss: 8.3930e-05 - accuracy: 9.9246e-05 - val_loss: 9.0574e-05 - val_accuracy: 2.0149e-04\n",
      "Epoch 81/100\n",
      "1008/1008 [==============================] - 2s 2ms/step - loss: 8.3766e-05 - accuracy: 9.9246e-05 - val_loss: 9.1273e-05 - val_accuracy: 2.0149e-04\n",
      "Epoch 82/100\n",
      "1008/1008 [==============================] - 2s 2ms/step - loss: 8.3824e-05 - accuracy: 9.9246e-05 - val_loss: 9.0728e-05 - val_accuracy: 2.0149e-04\n",
      "Epoch 83/100\n",
      "1008/1008 [==============================] - 2s 2ms/step - loss: 8.5581e-05 - accuracy: 9.9246e-05 - val_loss: 8.8067e-05 - val_accuracy: 2.0149e-04\n",
      "Epoch 84/100\n",
      "1008/1008 [==============================] - 2s 2ms/step - loss: 8.4824e-05 - accuracy: 9.9246e-05 - val_loss: 9.2275e-05 - val_accuracy: 2.0149e-04\n",
      "Epoch 85/100\n",
      "1008/1008 [==============================] - 2s 2ms/step - loss: 8.5181e-05 - accuracy: 9.9246e-05 - val_loss: 9.4848e-05 - val_accuracy: 2.0149e-04\n",
      "Epoch 86/100\n",
      "1008/1008 [==============================] - 2s 2ms/step - loss: 8.4182e-05 - accuracy: 9.9246e-05 - val_loss: 9.4711e-05 - val_accuracy: 2.0149e-04\n",
      "Epoch 87/100\n",
      "1008/1008 [==============================] - 2s 2ms/step - loss: 8.5786e-05 - accuracy: 9.9246e-05 - val_loss: 9.3106e-05 - val_accuracy: 2.0149e-04\n",
      "Epoch 88/100\n",
      "1008/1008 [==============================] - 2s 2ms/step - loss: 8.4448e-05 - accuracy: 9.9246e-05 - val_loss: 1.0153e-04 - val_accuracy: 2.0149e-04\n",
      "Epoch 89/100\n",
      "1008/1008 [==============================] - 2s 2ms/step - loss: 8.5304e-05 - accuracy: 9.9246e-05 - val_loss: 9.1861e-05 - val_accuracy: 2.0149e-04\n",
      "Epoch 90/100\n",
      "1008/1008 [==============================] - 2s 2ms/step - loss: 8.3981e-05 - accuracy: 9.9246e-05 - val_loss: 9.7586e-05 - val_accuracy: 2.0149e-04\n",
      "Epoch 91/100\n",
      "1008/1008 [==============================] - 2s 2ms/step - loss: 8.6619e-05 - accuracy: 9.9246e-05 - val_loss: 9.6449e-05 - val_accuracy: 2.0149e-04\n",
      "Epoch 92/100\n",
      "1008/1008 [==============================] - 2s 2ms/step - loss: 8.5901e-05 - accuracy: 9.9246e-05 - val_loss: 1.0725e-04 - val_accuracy: 2.0149e-04\n",
      "Epoch 93/100\n",
      "1008/1008 [==============================] - 2s 2ms/step - loss: 8.3586e-05 - accuracy: 9.9246e-05 - val_loss: 1.1257e-04 - val_accuracy: 2.0149e-04\n",
      "Epoch 94/100\n",
      "1008/1008 [==============================] - 2s 2ms/step - loss: 8.5866e-05 - accuracy: 9.9246e-05 - val_loss: 1.0566e-04 - val_accuracy: 2.0149e-04\n",
      "Epoch 95/100\n",
      "1008/1008 [==============================] - 2s 2ms/step - loss: 8.3490e-05 - accuracy: 9.9246e-05 - val_loss: 8.9659e-05 - val_accuracy: 2.0149e-04\n",
      "Epoch 96/100\n",
      "1008/1008 [==============================] - 2s 2ms/step - loss: 8.3368e-05 - accuracy: 9.9246e-05 - val_loss: 1.0031e-04 - val_accuracy: 2.0149e-04\n",
      "Epoch 97/100\n",
      "1008/1008 [==============================] - 2s 2ms/step - loss: 8.2449e-05 - accuracy: 9.9246e-05 - val_loss: 1.0100e-04 - val_accuracy: 2.0149e-04\n",
      "Epoch 98/100\n",
      "1008/1008 [==============================] - 2s 2ms/step - loss: 8.6706e-05 - accuracy: 9.9246e-05 - val_loss: 9.1774e-05 - val_accuracy: 2.0149e-04\n",
      "Epoch 99/100\n",
      "1008/1008 [==============================] - 2s 2ms/step - loss: 8.3664e-05 - accuracy: 9.9246e-05 - val_loss: 1.0282e-04 - val_accuracy: 2.0149e-04\n",
      "Epoch 100/100\n",
      "1008/1008 [==============================] - 2s 2ms/step - loss: 8.4301e-05 - accuracy: 9.9246e-05 - val_loss: 1.0020e-04 - val_accuracy: 2.0149e-04\n"
     ]
    }
   ],
   "source": [
    "history = model.fit(X, Y, validation_split=0.33, epochs=100, batch_size=10)"
   ]
  },
  {
   "cell_type": "code",
   "execution_count": 17,
   "id": "e0f50144",
   "metadata": {
    "ExecuteTime": {
     "end_time": "2023-03-25T17:41:07.830933Z",
     "start_time": "2023-03-25T17:41:07.815138Z"
    }
   },
   "outputs": [
    {
     "data": {
      "text/plain": [
       "dict_keys(['loss', 'accuracy', 'val_loss', 'val_accuracy'])"
      ]
     },
     "execution_count": 17,
     "metadata": {},
     "output_type": "execute_result"
    }
   ],
   "source": [
    "model.history.history.keys()"
   ]
  },
  {
   "cell_type": "code",
   "execution_count": 18,
   "id": "f6ba9d2f",
   "metadata": {
    "ExecuteTime": {
     "end_time": "2023-03-25T17:41:13.221622Z",
     "start_time": "2023-03-25T17:41:12.654320Z"
    }
   },
   "outputs": [
    {
     "data": {
      "image/png": "[encoded data removed]",
      "text/plain": [
       "<Figure size 432x288 with 1 Axes>"
      ]
     },
     "metadata": {
      "needs_background": "light"
     },
     "output_type": "display_data"
    }
   ],
   "source": [
    "plt.plot(history.history['accuracy'])\n",
    "plt.plot(history.history['val_accuracy'])\n",
    "plt.title('model accuracy')\n",
    "plt.ylabel('accuracy')\n",
    "plt.xlabel('epoch')\n",
    "plt.legend(['train', 'test'], loc='upper left')\n",
    "plt.show()"
   ]
  },
  {
   "cell_type": "code",
   "execution_count": 19,
   "id": "9e265035",
   "metadata": {
    "ExecuteTime": {
     "end_time": "2023-03-25T17:41:21.286653Z",
     "start_time": "2023-03-25T17:41:21.097434Z"
    }
   },
   "outputs": [
    {
     "data": {
      "image/png": "[encoded data removed]",
      "text/plain": [
       "<Figure size 432x288 with 1 Axes>"
      ]
     },
     "metadata": {
      "needs_background": "light"
     },
     "output_type": "display_data"
    }
   ],
   "source": [
    "plt.plot(history.history['loss'])\n",
    "plt.plot(history.history['val_loss'])\n",
    "plt.title('model loss')\n",
    "plt.ylabel('loss')\n",
    "plt.xlabel('epoch')\n",
    "plt.legend(['train', 'test'], loc='upper left')\n",
    "plt.show()"
   ]
  },
  {
   "cell_type": "code",
   "execution_count": 20,
   "id": "7e5bea91",
   "metadata": {
    "ExecuteTime": {
     "end_time": "2023-03-25T17:41:41.874234Z",
     "start_time": "2023-03-25T17:41:41.816760Z"
    }
   },
   "outputs": [],
   "source": [
    "def create_model():\n",
    "    model = Sequential()\n",
    "    model.add(Dense(12, input_dim=10, kernel_initializer='uniform', activation='relu'))\n",
    "    model.add(Dense(8, kernel_initializer='uniform', activation='relu'))\n",
    "    model.add(Dense(1, kernel_initializer='uniform', activation='sigmoid'))\n",
    "    \n",
    "    adam=Adam(lr=0.01)\n",
    "    model.compile(loss='mse', optimizer=adam, metrics=['accuracy'])\n",
    "    return model"
   ]
  },
  {
   "cell_type": "code",
   "execution_count": 21,
   "id": "f0bcaa95",
   "metadata": {
    "ExecuteTime": {
     "end_time": "2023-03-25T18:13:10.129749Z",
     "start_time": "2023-03-25T17:41:46.956116Z"
    }
   },
   "outputs": [
    {
     "name": "stdout",
     "output_type": "stream",
     "text": [
      "Fitting 5 folds for each of 9 candidates, totalling 45 fits\n",
      "[CV 1/5; 1/9] START batch_size=10, epochs=10....................................\n"
     ]
    },
    {
     "name": "stderr",
     "output_type": "stream",
     "text": [
      "WARNING:absl:`lr` is deprecated, please use `learning_rate` instead, or use the legacy optimizer, e.g.,tf.keras.optimizers.legacy.Adam.\n",
      "WARNING:absl:`lr` is deprecated, please use `learning_rate` instead, or use the legacy optimizer, e.g.,tf.keras.optimizers.legacy.Adam.\n"
     ]
    },
    {
     "name": "stdout",
     "output_type": "stream",
     "text": [
      "[CV 1/5; 1/9] END .....batch_size=10, epochs=10;, score=0.000 total time=  15.7s\n",
      "[CV 2/5; 1/9] START batch_size=10, epochs=10....................................\n"
     ]
    },
    {
     "name": "stderr",
     "output_type": "stream",
     "text": [
      "WARNING:absl:`lr` is deprecated, please use `learning_rate` instead, or use the legacy optimizer, e.g.,tf.keras.optimizers.legacy.Adam.\n"
     ]
    },
    {
     "name": "stdout",
     "output_type": "stream",
     "text": [
      "[CV 2/5; 1/9] END .....batch_size=10, epochs=10;, score=0.000 total time=  15.2s\n",
      "[CV 3/5; 1/9] START batch_size=10, epochs=10....................................\n"
     ]
    },
    {
     "name": "stderr",
     "output_type": "stream",
     "text": [
      "WARNING:absl:`lr` is deprecated, please use `learning_rate` instead, or use the legacy optimizer, e.g.,tf.keras.optimizers.legacy.Adam.\n"
     ]
    },
    {
     "name": "stdout",
     "output_type": "stream",
     "text": [
      "[CV 3/5; 1/9] END .....batch_size=10, epochs=10;, score=0.000 total time=  17.4s\n",
      "[CV 4/5; 1/9] START batch_size=10, epochs=10....................................\n"
     ]
    },
    {
     "name": "stderr",
     "output_type": "stream",
     "text": [
      "WARNING:absl:`lr` is deprecated, please use `learning_rate` instead, or use the legacy optimizer, e.g.,tf.keras.optimizers.legacy.Adam.\n"
     ]
    },
    {
     "name": "stdout",
     "output_type": "stream",
     "text": [
      "[CV 4/5; 1/9] END .....batch_size=10, epochs=10;, score=0.000 total time=  12.4s\n",
      "[CV 5/5; 1/9] START batch_size=10, epochs=10....................................\n"
     ]
    },
    {
     "name": "stderr",
     "output_type": "stream",
     "text": [
      "WARNING:absl:`lr` is deprecated, please use `learning_rate` instead, or use the legacy optimizer, e.g.,tf.keras.optimizers.legacy.Adam.\n"
     ]
    },
    {
     "name": "stdout",
     "output_type": "stream",
     "text": [
      "[CV 5/5; 1/9] END .....batch_size=10, epochs=10;, score=0.000 total time=  13.8s\n",
      "[CV 1/5; 2/9] START batch_size=10, epochs=50....................................\n"
     ]
    },
    {
     "name": "stderr",
     "output_type": "stream",
     "text": [
      "WARNING:absl:`lr` is deprecated, please use `learning_rate` instead, or use the legacy optimizer, e.g.,tf.keras.optimizers.legacy.Adam.\n"
     ]
    },
    {
     "name": "stdout",
     "output_type": "stream",
     "text": [
      "[CV 1/5; 2/9] END .....batch_size=10, epochs=50;, score=0.000 total time= 1.1min\n",
      "[CV 2/5; 2/9] START batch_size=10, epochs=50....................................\n"
     ]
    },
    {
     "name": "stderr",
     "output_type": "stream",
     "text": [
      "WARNING:absl:`lr` is deprecated, please use `learning_rate` instead, or use the legacy optimizer, e.g.,tf.keras.optimizers.legacy.Adam.\n"
     ]
    },
    {
     "name": "stdout",
     "output_type": "stream",
     "text": [
      "[CV 2/5; 2/9] END .....batch_size=10, epochs=50;, score=0.000 total time= 1.1min\n",
      "[CV 3/5; 2/9] START batch_size=10, epochs=50....................................\n"
     ]
    },
    {
     "name": "stderr",
     "output_type": "stream",
     "text": [
      "WARNING:absl:`lr` is deprecated, please use `learning_rate` instead, or use the legacy optimizer, e.g.,tf.keras.optimizers.legacy.Adam.\n"
     ]
    },
    {
     "name": "stdout",
     "output_type": "stream",
     "text": [
      "[CV 3/5; 2/9] END .....batch_size=10, epochs=50;, score=0.000 total time= 1.1min\n",
      "[CV 4/5; 2/9] START batch_size=10, epochs=50....................................\n"
     ]
    },
    {
     "name": "stderr",
     "output_type": "stream",
     "text": [
      "WARNING:absl:`lr` is deprecated, please use `learning_rate` instead, or use the legacy optimizer, e.g.,tf.keras.optimizers.legacy.Adam.\n"
     ]
    },
    {
     "name": "stdout",
     "output_type": "stream",
     "text": [
      "[CV 4/5; 2/9] END .....batch_size=10, epochs=50;, score=0.000 total time= 1.1min\n",
      "[CV 5/5; 2/9] START batch_size=10, epochs=50....................................\n"
     ]
    },
    {
     "name": "stderr",
     "output_type": "stream",
     "text": [
      "WARNING:absl:`lr` is deprecated, please use `learning_rate` instead, or use the legacy optimizer, e.g.,tf.keras.optimizers.legacy.Adam.\n"
     ]
    },
    {
     "name": "stdout",
     "output_type": "stream",
     "text": [
      "[CV 5/5; 2/9] END .....batch_size=10, epochs=50;, score=0.000 total time= 1.1min\n",
      "[CV 1/5; 3/9] START batch_size=10, epochs=100...................................\n"
     ]
    },
    {
     "name": "stderr",
     "output_type": "stream",
     "text": [
      "WARNING:absl:`lr` is deprecated, please use `learning_rate` instead, or use the legacy optimizer, e.g.,tf.keras.optimizers.legacy.Adam.\n"
     ]
    },
    {
     "name": "stdout",
     "output_type": "stream",
     "text": [
      "[CV 1/5; 3/9] END ....batch_size=10, epochs=100;, score=0.000 total time= 2.1min\n",
      "[CV 2/5; 3/9] START batch_size=10, epochs=100...................................\n"
     ]
    },
    {
     "name": "stderr",
     "output_type": "stream",
     "text": [
      "WARNING:absl:`lr` is deprecated, please use `learning_rate` instead, or use the legacy optimizer, e.g.,tf.keras.optimizers.legacy.Adam.\n"
     ]
    },
    {
     "name": "stdout",
     "output_type": "stream",
     "text": [
      "[CV 2/5; 3/9] END ....batch_size=10, epochs=100;, score=0.000 total time= 2.1min\n",
      "[CV 3/5; 3/9] START batch_size=10, epochs=100...................................\n"
     ]
    },
    {
     "name": "stderr",
     "output_type": "stream",
     "text": [
      "WARNING:absl:`lr` is deprecated, please use `learning_rate` instead, or use the legacy optimizer, e.g.,tf.keras.optimizers.legacy.Adam.\n"
     ]
    },
    {
     "name": "stdout",
     "output_type": "stream",
     "text": [
      "[CV 3/5; 3/9] END ....batch_size=10, epochs=100;, score=0.000 total time= 2.2min\n",
      "[CV 4/5; 3/9] START batch_size=10, epochs=100...................................\n"
     ]
    },
    {
     "name": "stderr",
     "output_type": "stream",
     "text": [
      "WARNING:absl:`lr` is deprecated, please use `learning_rate` instead, or use the legacy optimizer, e.g.,tf.keras.optimizers.legacy.Adam.\n"
     ]
    },
    {
     "name": "stdout",
     "output_type": "stream",
     "text": [
      "[CV 4/5; 3/9] END ....batch_size=10, epochs=100;, score=0.000 total time= 2.2min\n",
      "[CV 5/5; 3/9] START batch_size=10, epochs=100...................................\n"
     ]
    },
    {
     "name": "stderr",
     "output_type": "stream",
     "text": [
      "WARNING:absl:`lr` is deprecated, please use `learning_rate` instead, or use the legacy optimizer, e.g.,tf.keras.optimizers.legacy.Adam.\n"
     ]
    },
    {
     "name": "stdout",
     "output_type": "stream",
     "text": [
      "[CV 5/5; 3/9] END ....batch_size=10, epochs=100;, score=0.000 total time= 2.2min\n",
      "[CV 1/5; 4/9] START batch_size=20, epochs=10....................................\n"
     ]
    },
    {
     "name": "stderr",
     "output_type": "stream",
     "text": [
      "WARNING:absl:`lr` is deprecated, please use `learning_rate` instead, or use the legacy optimizer, e.g.,tf.keras.optimizers.legacy.Adam.\n"
     ]
    },
    {
     "name": "stdout",
     "output_type": "stream",
     "text": [
      "[CV 1/5; 4/9] END .....batch_size=20, epochs=10;, score=0.000 total time=   8.1s\n",
      "[CV 2/5; 4/9] START batch_size=20, epochs=10....................................\n"
     ]
    },
    {
     "name": "stderr",
     "output_type": "stream",
     "text": [
      "WARNING:absl:`lr` is deprecated, please use `learning_rate` instead, or use the legacy optimizer, e.g.,tf.keras.optimizers.legacy.Adam.\n"
     ]
    },
    {
     "name": "stdout",
     "output_type": "stream",
     "text": [
      "[CV 2/5; 4/9] END .....batch_size=20, epochs=10;, score=0.000 total time=   8.0s\n",
      "[CV 3/5; 4/9] START batch_size=20, epochs=10....................................\n"
     ]
    },
    {
     "name": "stderr",
     "output_type": "stream",
     "text": [
      "WARNING:absl:`lr` is deprecated, please use `learning_rate` instead, or use the legacy optimizer, e.g.,tf.keras.optimizers.legacy.Adam.\n"
     ]
    },
    {
     "name": "stdout",
     "output_type": "stream",
     "text": [
      "[CV 3/5; 4/9] END .....batch_size=20, epochs=10;, score=0.000 total time=   8.0s\n",
      "[CV 4/5; 4/9] START batch_size=20, epochs=10....................................\n"
     ]
    },
    {
     "name": "stderr",
     "output_type": "stream",
     "text": [
      "WARNING:absl:`lr` is deprecated, please use `learning_rate` instead, or use the legacy optimizer, e.g.,tf.keras.optimizers.legacy.Adam.\n"
     ]
    },
    {
     "name": "stdout",
     "output_type": "stream",
     "text": [
      "[CV 4/5; 4/9] END .....batch_size=20, epochs=10;, score=0.000 total time=   8.1s\n",
      "[CV 5/5; 4/9] START batch_size=20, epochs=10....................................\n"
     ]
    },
    {
     "name": "stderr",
     "output_type": "stream",
     "text": [
      "WARNING:absl:`lr` is deprecated, please use `learning_rate` instead, or use the legacy optimizer, e.g.,tf.keras.optimizers.legacy.Adam.\n"
     ]
    },
    {
     "name": "stdout",
     "output_type": "stream",
     "text": [
      "[CV 5/5; 4/9] END .....batch_size=20, epochs=10;, score=0.000 total time=   8.6s\n",
      "[CV 1/5; 5/9] START batch_size=20, epochs=50....................................\n"
     ]
    },
    {
     "name": "stderr",
     "output_type": "stream",
     "text": [
      "WARNING:absl:`lr` is deprecated, please use `learning_rate` instead, or use the legacy optimizer, e.g.,tf.keras.optimizers.legacy.Adam.\n"
     ]
    },
    {
     "name": "stdout",
     "output_type": "stream",
     "text": [
      "[CV 1/5; 5/9] END .....batch_size=20, epochs=50;, score=0.000 total time=  32.0s\n",
      "[CV 2/5; 5/9] START batch_size=20, epochs=50....................................\n"
     ]
    },
    {
     "name": "stderr",
     "output_type": "stream",
     "text": [
      "WARNING:absl:`lr` is deprecated, please use `learning_rate` instead, or use the legacy optimizer, e.g.,tf.keras.optimizers.legacy.Adam.\n"
     ]
    },
    {
     "name": "stdout",
     "output_type": "stream",
     "text": [
      "[CV 2/5; 5/9] END .....batch_size=20, epochs=50;, score=0.000 total time=  31.2s\n",
      "[CV 3/5; 5/9] START batch_size=20, epochs=50....................................\n"
     ]
    },
    {
     "name": "stderr",
     "output_type": "stream",
     "text": [
      "WARNING:absl:`lr` is deprecated, please use `learning_rate` instead, or use the legacy optimizer, e.g.,tf.keras.optimizers.legacy.Adam.\n"
     ]
    },
    {
     "name": "stdout",
     "output_type": "stream",
     "text": [
      "[CV 3/5; 5/9] END .....batch_size=20, epochs=50;, score=0.000 total time=  32.7s\n",
      "[CV 4/5; 5/9] START batch_size=20, epochs=50....................................\n"
     ]
    },
    {
     "name": "stderr",
     "output_type": "stream",
     "text": [
      "WARNING:absl:`lr` is deprecated, please use `learning_rate` instead, or use the legacy optimizer, e.g.,tf.keras.optimizers.legacy.Adam.\n"
     ]
    },
    {
     "name": "stdout",
     "output_type": "stream",
     "text": [
      "[CV 4/5; 5/9] END .....batch_size=20, epochs=50;, score=0.000 total time=  31.5s\n",
      "[CV 5/5; 5/9] START batch_size=20, epochs=50....................................\n"
     ]
    },
    {
     "name": "stderr",
     "output_type": "stream",
     "text": [
      "WARNING:absl:`lr` is deprecated, please use `learning_rate` instead, or use the legacy optimizer, e.g.,tf.keras.optimizers.legacy.Adam.\n"
     ]
    },
    {
     "name": "stdout",
     "output_type": "stream",
     "text": [
      "[CV 5/5; 5/9] END .....batch_size=20, epochs=50;, score=0.000 total time=  34.8s\n",
      "[CV 1/5; 6/9] START batch_size=20, epochs=100...................................\n"
     ]
    },
    {
     "name": "stderr",
     "output_type": "stream",
     "text": [
      "WARNING:absl:`lr` is deprecated, please use `learning_rate` instead, or use the legacy optimizer, e.g.,tf.keras.optimizers.legacy.Adam.\n"
     ]
    },
    {
     "name": "stdout",
     "output_type": "stream",
     "text": [
      "[CV 1/5; 6/9] END ....batch_size=20, epochs=100;, score=0.000 total time= 1.1min\n",
      "[CV 2/5; 6/9] START batch_size=20, epochs=100...................................\n"
     ]
    },
    {
     "name": "stderr",
     "output_type": "stream",
     "text": [
      "WARNING:absl:`lr` is deprecated, please use `learning_rate` instead, or use the legacy optimizer, e.g.,tf.keras.optimizers.legacy.Adam.\n"
     ]
    },
    {
     "name": "stdout",
     "output_type": "stream",
     "text": [
      "[CV 2/5; 6/9] END ....batch_size=20, epochs=100;, score=0.000 total time= 1.1min\n",
      "[CV 3/5; 6/9] START batch_size=20, epochs=100...................................\n"
     ]
    },
    {
     "name": "stderr",
     "output_type": "stream",
     "text": [
      "WARNING:absl:`lr` is deprecated, please use `learning_rate` instead, or use the legacy optimizer, e.g.,tf.keras.optimizers.legacy.Adam.\n"
     ]
    },
    {
     "name": "stdout",
     "output_type": "stream",
     "text": [
      "[CV 3/5; 6/9] END ....batch_size=20, epochs=100;, score=0.000 total time= 1.1min\n",
      "[CV 4/5; 6/9] START batch_size=20, epochs=100...................................\n"
     ]
    },
    {
     "name": "stderr",
     "output_type": "stream",
     "text": [
      "WARNING:absl:`lr` is deprecated, please use `learning_rate` instead, or use the legacy optimizer, e.g.,tf.keras.optimizers.legacy.Adam.\n"
     ]
    },
    {
     "name": "stdout",
     "output_type": "stream",
     "text": [
      "[CV 4/5; 6/9] END ....batch_size=20, epochs=100;, score=0.000 total time= 1.1min\n",
      "[CV 5/5; 6/9] START batch_size=20, epochs=100...................................\n"
     ]
    },
    {
     "name": "stderr",
     "output_type": "stream",
     "text": [
      "WARNING:absl:`lr` is deprecated, please use `learning_rate` instead, or use the legacy optimizer, e.g.,tf.keras.optimizers.legacy.Adam.\n"
     ]
    },
    {
     "name": "stdout",
     "output_type": "stream",
     "text": [
      "[CV 5/5; 6/9] END ....batch_size=20, epochs=100;, score=0.000 total time= 1.0min\n",
      "[CV 1/5; 7/9] START batch_size=40, epochs=10....................................\n"
     ]
    },
    {
     "name": "stderr",
     "output_type": "stream",
     "text": [
      "WARNING:absl:`lr` is deprecated, please use `learning_rate` instead, or use the legacy optimizer, e.g.,tf.keras.optimizers.legacy.Adam.\n"
     ]
    },
    {
     "name": "stdout",
     "output_type": "stream",
     "text": [
      "[CV 1/5; 7/9] END .....batch_size=40, epochs=10;, score=0.000 total time=   4.6s\n",
      "[CV 2/5; 7/9] START batch_size=40, epochs=10....................................\n"
     ]
    },
    {
     "name": "stderr",
     "output_type": "stream",
     "text": [
      "WARNING:absl:`lr` is deprecated, please use `learning_rate` instead, or use the legacy optimizer, e.g.,tf.keras.optimizers.legacy.Adam.\n"
     ]
    },
    {
     "name": "stdout",
     "output_type": "stream",
     "text": [
      "[CV 2/5; 7/9] END .....batch_size=40, epochs=10;, score=0.000 total time=   4.6s\n",
      "[CV 3/5; 7/9] START batch_size=40, epochs=10....................................\n"
     ]
    },
    {
     "name": "stderr",
     "output_type": "stream",
     "text": [
      "WARNING:absl:`lr` is deprecated, please use `learning_rate` instead, or use the legacy optimizer, e.g.,tf.keras.optimizers.legacy.Adam.\n"
     ]
    },
    {
     "name": "stdout",
     "output_type": "stream",
     "text": [
      "[CV 3/5; 7/9] END .....batch_size=40, epochs=10;, score=0.000 total time=   4.7s\n",
      "[CV 4/5; 7/9] START batch_size=40, epochs=10....................................\n"
     ]
    },
    {
     "name": "stderr",
     "output_type": "stream",
     "text": [
      "WARNING:absl:`lr` is deprecated, please use `learning_rate` instead, or use the legacy optimizer, e.g.,tf.keras.optimizers.legacy.Adam.\n"
     ]
    },
    {
     "name": "stdout",
     "output_type": "stream",
     "text": [
      "[CV 4/5; 7/9] END .....batch_size=40, epochs=10;, score=0.000 total time=   3.3s\n",
      "[CV 5/5; 7/9] START batch_size=40, epochs=10....................................\n"
     ]
    },
    {
     "name": "stderr",
     "output_type": "stream",
     "text": [
      "WARNING:absl:`lr` is deprecated, please use `learning_rate` instead, or use the legacy optimizer, e.g.,tf.keras.optimizers.legacy.Adam.\n"
     ]
    },
    {
     "name": "stdout",
     "output_type": "stream",
     "text": [
      "[CV 5/5; 7/9] END .....batch_size=40, epochs=10;, score=0.000 total time=   3.3s\n",
      "[CV 1/5; 8/9] START batch_size=40, epochs=50....................................\n"
     ]
    },
    {
     "name": "stderr",
     "output_type": "stream",
     "text": [
      "WARNING:absl:`lr` is deprecated, please use `learning_rate` instead, or use the legacy optimizer, e.g.,tf.keras.optimizers.legacy.Adam.\n"
     ]
    },
    {
     "name": "stdout",
     "output_type": "stream",
     "text": [
      "[CV 1/5; 8/9] END .....batch_size=40, epochs=50;, score=0.000 total time=  16.6s\n",
      "[CV 2/5; 8/9] START batch_size=40, epochs=50....................................\n"
     ]
    },
    {
     "name": "stderr",
     "output_type": "stream",
     "text": [
      "WARNING:absl:`lr` is deprecated, please use `learning_rate` instead, or use the legacy optimizer, e.g.,tf.keras.optimizers.legacy.Adam.\n"
     ]
    },
    {
     "name": "stdout",
     "output_type": "stream",
     "text": [
      "[CV 2/5; 8/9] END .....batch_size=40, epochs=50;, score=0.000 total time=  16.4s\n",
      "[CV 3/5; 8/9] START batch_size=40, epochs=50....................................\n",
      "[CV 3/5; 8/9] END .....batch_size=40, epochs=50;, score=0.000 total time=  17.8s\n",
      "[CV 4/5; 8/9] START batch_size=40, epochs=50....................................\n"
     ]
    },
    {
     "name": "stderr",
     "output_type": "stream",
     "text": [
      "WARNING:absl:`lr` is deprecated, please use `learning_rate` instead, or use the legacy optimizer, e.g.,tf.keras.optimizers.legacy.Adam.\n",
      "WARNING:absl:`lr` is deprecated, please use `learning_rate` instead, or use the legacy optimizer, e.g.,tf.keras.optimizers.legacy.Adam.\n"
     ]
    },
    {
     "name": "stdout",
     "output_type": "stream",
     "text": [
      "[CV 4/5; 8/9] END .....batch_size=40, epochs=50;, score=0.000 total time=  18.9s\n",
      "[CV 5/5; 8/9] START batch_size=40, epochs=50....................................\n"
     ]
    },
    {
     "name": "stderr",
     "output_type": "stream",
     "text": [
      "WARNING:absl:`lr` is deprecated, please use `learning_rate` instead, or use the legacy optimizer, e.g.,tf.keras.optimizers.legacy.Adam.\n"
     ]
    },
    {
     "name": "stdout",
     "output_type": "stream",
     "text": [
      "[CV 5/5; 8/9] END .....batch_size=40, epochs=50;, score=0.000 total time=  16.2s\n",
      "[CV 1/5; 9/9] START batch_size=40, epochs=100...................................\n"
     ]
    },
    {
     "name": "stderr",
     "output_type": "stream",
     "text": [
      "WARNING:absl:`lr` is deprecated, please use `learning_rate` instead, or use the legacy optimizer, e.g.,tf.keras.optimizers.legacy.Adam.\n"
     ]
    },
    {
     "name": "stdout",
     "output_type": "stream",
     "text": [
      "[CV 1/5; 9/9] END ....batch_size=40, epochs=100;, score=0.000 total time=  34.9s\n",
      "[CV 2/5; 9/9] START batch_size=40, epochs=100...................................\n"
     ]
    },
    {
     "name": "stderr",
     "output_type": "stream",
     "text": [
      "WARNING:absl:`lr` is deprecated, please use `learning_rate` instead, or use the legacy optimizer, e.g.,tf.keras.optimizers.legacy.Adam.\n"
     ]
    },
    {
     "name": "stdout",
     "output_type": "stream",
     "text": [
      "[CV 2/5; 9/9] END ....batch_size=40, epochs=100;, score=0.000 total time=  34.2s\n",
      "[CV 3/5; 9/9] START batch_size=40, epochs=100...................................\n"
     ]
    },
    {
     "name": "stderr",
     "output_type": "stream",
     "text": [
      "WARNING:absl:`lr` is deprecated, please use `learning_rate` instead, or use the legacy optimizer, e.g.,tf.keras.optimizers.legacy.Adam.\n"
     ]
    },
    {
     "name": "stdout",
     "output_type": "stream",
     "text": [
      "[CV 3/5; 9/9] END ....batch_size=40, epochs=100;, score=0.000 total time=  33.9s\n",
      "[CV 4/5; 9/9] START batch_size=40, epochs=100...................................\n"
     ]
    },
    {
     "name": "stderr",
     "output_type": "stream",
     "text": [
      "WARNING:absl:`lr` is deprecated, please use `learning_rate` instead, or use the legacy optimizer, e.g.,tf.keras.optimizers.legacy.Adam.\n"
     ]
    },
    {
     "name": "stdout",
     "output_type": "stream",
     "text": [
      "[CV 4/5; 9/9] END ....batch_size=40, epochs=100;, score=0.000 total time=  31.5s\n",
      "[CV 5/5; 9/9] START batch_size=40, epochs=100...................................\n"
     ]
    },
    {
     "name": "stderr",
     "output_type": "stream",
     "text": [
      "WARNING:absl:`lr` is deprecated, please use `learning_rate` instead, or use the legacy optimizer, e.g.,tf.keras.optimizers.legacy.Adam.\n"
     ]
    },
    {
     "name": "stdout",
     "output_type": "stream",
     "text": [
      "[CV 5/5; 9/9] END ....batch_size=40, epochs=100;, score=0.000 total time=  33.4s\n"
     ]
    }
   ],
   "source": [
    "model = KerasClassifier(build_fn = create_model,verbose = 0)\n",
    "batch_size = [10,20,40]\n",
    "epochs = [10,50,100]\n",
    "param_grid = dict(batch_size = batch_size,epochs = epochs)\n",
    "grid = GridSearchCV(estimator = model,param_grid = param_grid,cv = KFold(),verbose = 10)\n",
    "grid_result = grid.fit(X,Y)"
   ]
  },
  {
   "cell_type": "markdown",
   "id": "ca369028",
   "metadata": {},
   "source": [
    "Conclusion:\n",
    "The neural network helps predicting the turbine energy yield (TEY) using ambient variables as features, with the validation loss of 1.4047e-04, while evaluating the model.\n",
    "Since, this is a regression problem, our evaluation metric is MSE, thus, our aim is to reduce the MSE value between the original and the predicted."
   ]
  },
  {
   "cell_type": "code",
   "execution_count": null,
   "id": "04ca0abe",
   "metadata": {},
   "outputs": [],
   "source": []
  }
 ],
 "metadata": {
  "kernelspec": {
   "display_name": "Python 3 (ipykernel)",
   "language": "python",
   "name": "python3"
  },
  "language_info": {
   "codemirror_mode": {
    "name": "ipython",
    "version": 3
   },
   "file_extension": ".py",
   "mimetype": "text/x-python",
   "name": "python",
   "nbconvert_exporter": "python",
   "pygments_lexer": "ipython3",
   "version": "3.9.12"
  }
 },
 "nbformat": 4,
 "nbformat_minor": 5
}
