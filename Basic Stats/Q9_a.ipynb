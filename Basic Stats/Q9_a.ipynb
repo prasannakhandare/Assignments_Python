{
 "cells": [
  {
   "cell_type": "code",
   "execution_count": 1,
   "id": "b4b7e575",
   "metadata": {
    "ExecuteTime": {
     "end_time": "2023-02-24T10:31:11.800555Z",
     "start_time": "2023-02-24T10:31:10.418436Z"
    }
   },
   "outputs": [],
   "source": [
    "import pandas as pd\n",
    "import numpy as np\n",
    "import warnings\n",
    "warnings.filterwarnings('ignore')"
   ]
  },
  {
   "cell_type": "code",
   "execution_count": 2,
   "id": "e768de31",
   "metadata": {
    "ExecuteTime": {
     "end_time": "2023-02-24T10:32:00.340057Z",
     "start_time": "2023-02-24T10:32:00.239916Z"
    }
   },
   "outputs": [
    {
     "data": {
      "text/html": [
       "<div>\n",
       "<style scoped>\n",
       "    .dataframe tbody tr th:only-of-type {\n",
       "        vertical-align: middle;\n",
       "    }\n",
       "\n",
       "    .dataframe tbody tr th {\n",
       "        vertical-align: top;\n",
       "    }\n",
       "\n",
       "    .dataframe thead th {\n",
       "        text-align: right;\n",
       "    }\n",
       "</style>\n",
       "<table border=\"1\" class=\"dataframe\">\n",
       "  <thead>\n",
       "    <tr style=\"text-align: right;\">\n",
       "      <th></th>\n",
       "      <th>Index</th>\n",
       "      <th>speed</th>\n",
       "      <th>dist</th>\n",
       "    </tr>\n",
       "  </thead>\n",
       "  <tbody>\n",
       "    <tr>\n",
       "      <th>0</th>\n",
       "      <td>1</td>\n",
       "      <td>4</td>\n",
       "      <td>2</td>\n",
       "    </tr>\n",
       "    <tr>\n",
       "      <th>1</th>\n",
       "      <td>2</td>\n",
       "      <td>4</td>\n",
       "      <td>10</td>\n",
       "    </tr>\n",
       "    <tr>\n",
       "      <th>2</th>\n",
       "      <td>3</td>\n",
       "      <td>7</td>\n",
       "      <td>4</td>\n",
       "    </tr>\n",
       "    <tr>\n",
       "      <th>3</th>\n",
       "      <td>4</td>\n",
       "      <td>7</td>\n",
       "      <td>22</td>\n",
       "    </tr>\n",
       "    <tr>\n",
       "      <th>4</th>\n",
       "      <td>5</td>\n",
       "      <td>8</td>\n",
       "      <td>16</td>\n",
       "    </tr>\n",
       "  </tbody>\n",
       "</table>\n",
       "</div>"
      ],
      "text/plain": [
       "   Index  speed  dist\n",
       "0      1      4     2\n",
       "1      2      4    10\n",
       "2      3      7     4\n",
       "3      4      7    22\n",
       "4      5      8    16"
      ]
     },
     "execution_count": 2,
     "metadata": {},
     "output_type": "execute_result"
    }
   ],
   "source": [
    "df = pd.read_csv('Q9_a.csv')\n",
    "df.head()"
   ]
  },
  {
   "cell_type": "code",
   "execution_count": 3,
   "id": "096383b6",
   "metadata": {
    "ExecuteTime": {
     "end_time": "2023-02-24T10:32:24.246553Z",
     "start_time": "2023-02-24T10:32:24.198426Z"
    }
   },
   "outputs": [
    {
     "data": {
      "text/plain": [
       "-0.11750986144663393"
      ]
     },
     "execution_count": 3,
     "metadata": {},
     "output_type": "execute_result"
    }
   ],
   "source": [
    "df.speed.skew()"
   ]
  },
  {
   "cell_type": "code",
   "execution_count": 4,
   "id": "3685fac7",
   "metadata": {
    "ExecuteTime": {
     "end_time": "2023-02-24T10:32:44.426259Z",
     "start_time": "2023-02-24T10:32:44.410680Z"
    }
   },
   "outputs": [
    {
     "data": {
      "text/plain": [
       "0.8068949601674215"
      ]
     },
     "execution_count": 4,
     "metadata": {},
     "output_type": "execute_result"
    }
   ],
   "source": [
    "df.dist.skew()"
   ]
  },
  {
   "cell_type": "code",
   "execution_count": 5,
   "id": "a445e170",
   "metadata": {
    "ExecuteTime": {
     "end_time": "2023-02-24T10:32:53.795872Z",
     "start_time": "2023-02-24T10:32:53.741201Z"
    }
   },
   "outputs": [
    {
     "data": {
      "text/plain": [
       "Index    0.000000\n",
       "speed   -0.117510\n",
       "dist     0.806895\n",
       "dtype: float64"
      ]
     },
     "execution_count": 5,
     "metadata": {},
     "output_type": "execute_result"
    }
   ],
   "source": [
    "df.skew()"
   ]
  },
  {
   "cell_type": "markdown",
   "id": "68b1a3e7",
   "metadata": {},
   "source": [
    "# skewness value for speed and distance is -0.117510 and 0.806895"
   ]
  },
  {
   "cell_type": "code",
   "execution_count": 6,
   "id": "0fd72a6a",
   "metadata": {
    "ExecuteTime": {
     "end_time": "2023-02-24T10:33:19.701790Z",
     "start_time": "2023-02-24T10:33:19.689389Z"
    }
   },
   "outputs": [
    {
     "data": {
      "text/plain": [
       "-0.5089944204057617"
      ]
     },
     "execution_count": 6,
     "metadata": {},
     "output_type": "execute_result"
    }
   ],
   "source": [
    "df.speed.kurt()"
   ]
  },
  {
   "cell_type": "code",
   "execution_count": 7,
   "id": "3e5c6742",
   "metadata": {
    "ExecuteTime": {
     "end_time": "2023-02-24T10:33:34.954377Z",
     "start_time": "2023-02-24T10:33:34.933712Z"
    }
   },
   "outputs": [
    {
     "data": {
      "text/plain": [
       "0.4050525816795765"
      ]
     },
     "execution_count": 7,
     "metadata": {},
     "output_type": "execute_result"
    }
   ],
   "source": [
    "df.dist.kurt()"
   ]
  },
  {
   "cell_type": "code",
   "execution_count": 8,
   "id": "c5d2230f",
   "metadata": {
    "ExecuteTime": {
     "end_time": "2023-02-24T10:33:58.320039Z",
     "start_time": "2023-02-24T10:33:58.303692Z"
    }
   },
   "outputs": [
    {
     "data": {
      "text/plain": [
       "Index   -1.200000\n",
       "speed   -0.508994\n",
       "dist     0.405053\n",
       "dtype: float64"
      ]
     },
     "execution_count": 8,
     "metadata": {},
     "output_type": "execute_result"
    }
   ],
   "source": [
    "df.kurt()"
   ]
  },
  {
   "cell_type": "markdown",
   "id": "87992721",
   "metadata": {
    "ExecuteTime": {
     "end_time": "2023-02-24T10:34:34.106438Z",
     "start_time": "2023-02-24T10:34:34.096210Z"
    }
   },
   "source": [
    "# Kurtosis value for speed and distance is -0.508994 and 0.405053"
   ]
  },
  {
   "cell_type": "code",
   "execution_count": null,
   "id": "6daba102",
   "metadata": {},
   "outputs": [],
   "source": []
  }
 ],
 "metadata": {
  "kernelspec": {
   "display_name": "Python 3 (ipykernel)",
   "language": "python",
   "name": "python3"
  },
  "language_info": {
   "codemirror_mode": {
    "name": "ipython",
    "version": 3
   },
   "file_extension": ".py",
   "mimetype": "text/x-python",
   "name": "python",
   "nbconvert_exporter": "python",
   "pygments_lexer": "ipython3",
   "version": "3.9.12"
  }
 },
 "nbformat": 4,
 "nbformat_minor": 5
}
