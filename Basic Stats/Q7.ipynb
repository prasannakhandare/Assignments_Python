{
 "cells": [
  {
   "cell_type": "code",
   "execution_count": 1,
   "id": "6fb7bc53",
   "metadata": {
    "ExecuteTime": {
     "end_time": "2023-02-24T10:24:05.080292Z",
     "start_time": "2023-02-24T10:24:03.553784Z"
    }
   },
   "outputs": [],
   "source": [
    "import numpy as np\n",
    "from scipy import stats\n",
    "from scipy.stats import norm\n",
    "import pandas as pd\n",
    "import warnings\n",
    "warnings.filterwarnings('ignore')"
   ]
  },
  {
   "cell_type": "code",
   "execution_count": 2,
   "id": "3490c9c5",
   "metadata": {
    "ExecuteTime": {
     "end_time": "2023-02-24T10:24:05.142155Z",
     "start_time": "2023-02-24T10:24:05.080292Z"
    }
   },
   "outputs": [
    {
     "data": {
      "text/html": [
       "<div>\n",
       "<style scoped>\n",
       "    .dataframe tbody tr th:only-of-type {\n",
       "        vertical-align: middle;\n",
       "    }\n",
       "\n",
       "    .dataframe tbody tr th {\n",
       "        vertical-align: top;\n",
       "    }\n",
       "\n",
       "    .dataframe thead th {\n",
       "        text-align: right;\n",
       "    }\n",
       "</style>\n",
       "<table border=\"1\" class=\"dataframe\">\n",
       "  <thead>\n",
       "    <tr style=\"text-align: right;\">\n",
       "      <th></th>\n",
       "      <th>Unnamed: 0</th>\n",
       "      <th>Points</th>\n",
       "      <th>Score</th>\n",
       "      <th>Weigh</th>\n",
       "    </tr>\n",
       "  </thead>\n",
       "  <tbody>\n",
       "    <tr>\n",
       "      <th>0</th>\n",
       "      <td>Mazda RX4</td>\n",
       "      <td>3.90</td>\n",
       "      <td>2.620</td>\n",
       "      <td>16.46</td>\n",
       "    </tr>\n",
       "    <tr>\n",
       "      <th>1</th>\n",
       "      <td>Mazda RX4 Wag</td>\n",
       "      <td>3.90</td>\n",
       "      <td>2.875</td>\n",
       "      <td>17.02</td>\n",
       "    </tr>\n",
       "    <tr>\n",
       "      <th>2</th>\n",
       "      <td>Datsun 710</td>\n",
       "      <td>3.85</td>\n",
       "      <td>2.320</td>\n",
       "      <td>18.61</td>\n",
       "    </tr>\n",
       "    <tr>\n",
       "      <th>3</th>\n",
       "      <td>Hornet 4 Drive</td>\n",
       "      <td>3.08</td>\n",
       "      <td>3.215</td>\n",
       "      <td>19.44</td>\n",
       "    </tr>\n",
       "    <tr>\n",
       "      <th>4</th>\n",
       "      <td>Hornet Sportabout</td>\n",
       "      <td>3.15</td>\n",
       "      <td>3.440</td>\n",
       "      <td>17.02</td>\n",
       "    </tr>\n",
       "  </tbody>\n",
       "</table>\n",
       "</div>"
      ],
      "text/plain": [
       "          Unnamed: 0  Points  Score  Weigh\n",
       "0          Mazda RX4    3.90  2.620  16.46\n",
       "1      Mazda RX4 Wag    3.90  2.875  17.02\n",
       "2         Datsun 710    3.85  2.320  18.61\n",
       "3     Hornet 4 Drive    3.08  3.215  19.44\n",
       "4  Hornet Sportabout    3.15  3.440  17.02"
      ]
     },
     "execution_count": 2,
     "metadata": {},
     "output_type": "execute_result"
    }
   ],
   "source": [
    "cars = pd.read_csv('Q7.csv')\n",
    "cars.head()"
   ]
  },
  {
   "cell_type": "code",
   "execution_count": 3,
   "id": "221d0a3b",
   "metadata": {
    "ExecuteTime": {
     "end_time": "2023-02-24T10:24:06.071261Z",
     "start_time": "2023-02-24T10:24:05.145550Z"
    }
   },
   "outputs": [
    {
     "data": {
      "text/plain": [
       "Points     3.596563\n",
       "Score      3.217250\n",
       "Weigh     17.848750\n",
       "dtype: float64"
      ]
     },
     "execution_count": 3,
     "metadata": {},
     "output_type": "execute_result"
    }
   ],
   "source": [
    "cars.mean()"
   ]
  },
  {
   "cell_type": "code",
   "execution_count": 4,
   "id": "86e57099",
   "metadata": {
    "ExecuteTime": {
     "end_time": "2023-02-24T10:24:06.111103Z",
     "start_time": "2023-02-24T10:24:06.071261Z"
    }
   },
   "outputs": [
    {
     "data": {
      "text/plain": [
       "Points     3.695\n",
       "Score      3.325\n",
       "Weigh     17.710\n",
       "dtype: float64"
      ]
     },
     "execution_count": 4,
     "metadata": {},
     "output_type": "execute_result"
    }
   ],
   "source": [
    "cars.median()"
   ]
  },
  {
   "cell_type": "code",
   "execution_count": 5,
   "id": "aafbc16b",
   "metadata": {
    "ExecuteTime": {
     "end_time": "2023-02-24T10:24:06.142740Z",
     "start_time": "2023-02-24T10:24:06.114271Z"
    }
   },
   "outputs": [
    {
     "data": {
      "text/plain": [
       "0    3.07\n",
       "1    3.92\n",
       "Name: Points, dtype: float64"
      ]
     },
     "execution_count": 5,
     "metadata": {},
     "output_type": "execute_result"
    }
   ],
   "source": [
    "cars.Points.mode() "
   ]
  },
  {
   "cell_type": "code",
   "execution_count": 6,
   "id": "86c54e63",
   "metadata": {
    "ExecuteTime": {
     "end_time": "2023-02-24T10:24:06.190437Z",
     "start_time": "2023-02-24T10:24:06.142740Z"
    }
   },
   "outputs": [
    {
     "data": {
      "text/plain": [
       "Points    0.285881\n",
       "Score     0.957379\n",
       "Weigh     3.193166\n",
       "dtype: float64"
      ]
     },
     "execution_count": 6,
     "metadata": {},
     "output_type": "execute_result"
    }
   ],
   "source": [
    "cars.var()"
   ]
  },
  {
   "cell_type": "code",
   "execution_count": 7,
   "id": "07ffa91a",
   "metadata": {
    "ExecuteTime": {
     "end_time": "2023-02-24T10:24:06.246074Z",
     "start_time": "2023-02-24T10:24:06.190437Z"
    }
   },
   "outputs": [
    {
     "data": {
      "text/plain": [
       "Points    0.534679\n",
       "Score     0.978457\n",
       "Weigh     1.786943\n",
       "dtype: float64"
      ]
     },
     "execution_count": 7,
     "metadata": {},
     "output_type": "execute_result"
    }
   ],
   "source": [
    "cars.std()"
   ]
  },
  {
   "cell_type": "code",
   "execution_count": 8,
   "id": "1706a71f",
   "metadata": {
    "ExecuteTime": {
     "end_time": "2023-02-24T10:24:06.277871Z",
     "start_time": "2023-02-24T10:24:06.247347Z"
    }
   },
   "outputs": [
    {
     "data": {
      "text/html": [
       "<div>\n",
       "<style scoped>\n",
       "    .dataframe tbody tr th:only-of-type {\n",
       "        vertical-align: middle;\n",
       "    }\n",
       "\n",
       "    .dataframe tbody tr th {\n",
       "        vertical-align: top;\n",
       "    }\n",
       "\n",
       "    .dataframe thead th {\n",
       "        text-align: right;\n",
       "    }\n",
       "</style>\n",
       "<table border=\"1\" class=\"dataframe\">\n",
       "  <thead>\n",
       "    <tr style=\"text-align: right;\">\n",
       "      <th></th>\n",
       "      <th>Points</th>\n",
       "      <th>Score</th>\n",
       "      <th>Weigh</th>\n",
       "    </tr>\n",
       "  </thead>\n",
       "  <tbody>\n",
       "    <tr>\n",
       "      <th>count</th>\n",
       "      <td>32.000000</td>\n",
       "      <td>32.000000</td>\n",
       "      <td>32.000000</td>\n",
       "    </tr>\n",
       "    <tr>\n",
       "      <th>mean</th>\n",
       "      <td>3.596563</td>\n",
       "      <td>3.217250</td>\n",
       "      <td>17.848750</td>\n",
       "    </tr>\n",
       "    <tr>\n",
       "      <th>std</th>\n",
       "      <td>0.534679</td>\n",
       "      <td>0.978457</td>\n",
       "      <td>1.786943</td>\n",
       "    </tr>\n",
       "    <tr>\n",
       "      <th>min</th>\n",
       "      <td>2.760000</td>\n",
       "      <td>1.513000</td>\n",
       "      <td>14.500000</td>\n",
       "    </tr>\n",
       "    <tr>\n",
       "      <th>25%</th>\n",
       "      <td>3.080000</td>\n",
       "      <td>2.581250</td>\n",
       "      <td>16.892500</td>\n",
       "    </tr>\n",
       "    <tr>\n",
       "      <th>50%</th>\n",
       "      <td>3.695000</td>\n",
       "      <td>3.325000</td>\n",
       "      <td>17.710000</td>\n",
       "    </tr>\n",
       "    <tr>\n",
       "      <th>75%</th>\n",
       "      <td>3.920000</td>\n",
       "      <td>3.610000</td>\n",
       "      <td>18.900000</td>\n",
       "    </tr>\n",
       "    <tr>\n",
       "      <th>max</th>\n",
       "      <td>4.930000</td>\n",
       "      <td>5.424000</td>\n",
       "      <td>22.900000</td>\n",
       "    </tr>\n",
       "  </tbody>\n",
       "</table>\n",
       "</div>"
      ],
      "text/plain": [
       "          Points      Score      Weigh\n",
       "count  32.000000  32.000000  32.000000\n",
       "mean    3.596563   3.217250  17.848750\n",
       "std     0.534679   0.978457   1.786943\n",
       "min     2.760000   1.513000  14.500000\n",
       "25%     3.080000   2.581250  16.892500\n",
       "50%     3.695000   3.325000  17.710000\n",
       "75%     3.920000   3.610000  18.900000\n",
       "max     4.930000   5.424000  22.900000"
      ]
     },
     "execution_count": 8,
     "metadata": {},
     "output_type": "execute_result"
    }
   ],
   "source": [
    "cars.describe()"
   ]
  },
  {
   "cell_type": "code",
   "execution_count": 9,
   "id": "bf4ae9cd",
   "metadata": {
    "ExecuteTime": {
     "end_time": "2023-02-24T10:24:06.293613Z",
     "start_time": "2023-02-24T10:24:06.279826Z"
    }
   },
   "outputs": [
    {
     "data": {
      "text/plain": [
       "2.17"
      ]
     },
     "execution_count": 9,
     "metadata": {},
     "output_type": "execute_result"
    }
   ],
   "source": [
    "Points_Range=cars.Points.max()-cars.Points.min()\n",
    "Points_Range"
   ]
  },
  {
   "cell_type": "code",
   "execution_count": 10,
   "id": "621914b5",
   "metadata": {
    "ExecuteTime": {
     "end_time": "2023-02-24T10:24:06.309706Z",
     "start_time": "2023-02-24T10:24:06.297520Z"
    }
   },
   "outputs": [
    {
     "data": {
      "text/plain": [
       "3.9110000000000005"
      ]
     },
     "execution_count": 10,
     "metadata": {},
     "output_type": "execute_result"
    }
   ],
   "source": [
    "Score_Range=cars.Score.max()-cars.Score.min()\n",
    "Score_Range"
   ]
  },
  {
   "cell_type": "code",
   "execution_count": 11,
   "id": "022f4675",
   "metadata": {
    "ExecuteTime": {
     "end_time": "2023-02-24T10:24:06.325800Z",
     "start_time": "2023-02-24T10:24:06.309706Z"
    }
   },
   "outputs": [
    {
     "data": {
      "text/plain": [
       "8.399999999999999"
      ]
     },
     "execution_count": 11,
     "metadata": {},
     "output_type": "execute_result"
    }
   ],
   "source": [
    "Weigh_Range=cars.Weigh.max()-cars.Weigh.min()\n",
    "Weigh_Range"
   ]
  }
 ],
 "metadata": {
  "kernelspec": {
   "display_name": "Python 3 (ipykernel)",
   "language": "python",
   "name": "python3"
  },
  "language_info": {
   "codemirror_mode": {
    "name": "ipython",
    "version": 3
   },
   "file_extension": ".py",
   "mimetype": "text/x-python",
   "name": "python",
   "nbconvert_exporter": "python",
   "pygments_lexer": "ipython3",
   "version": "3.9.12"
  }
 },
 "nbformat": 4,
 "nbformat_minor": 5
}
