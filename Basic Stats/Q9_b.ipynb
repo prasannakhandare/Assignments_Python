{
 "cells": [
  {
   "cell_type": "code",
   "execution_count": 1,
   "id": "e6f7b7dd",
   "metadata": {
    "ExecuteTime": {
     "end_time": "2023-02-24T10:36:18.129852Z",
     "start_time": "2023-02-24T10:36:17.186796Z"
    }
   },
   "outputs": [],
   "source": [
    "import pandas as pd\n",
    "import numpy as np\n",
    "import warnings\n",
    "warnings.filterwarnings('ignore')"
   ]
  },
  {
   "cell_type": "code",
   "execution_count": 2,
   "id": "c21b4b18",
   "metadata": {
    "ExecuteTime": {
     "end_time": "2023-02-24T10:37:03.114154Z",
     "start_time": "2023-02-24T10:37:03.065521Z"
    }
   },
   "outputs": [
    {
     "data": {
      "text/html": [
       "<div>\n",
       "<style scoped>\n",
       "    .dataframe tbody tr th:only-of-type {\n",
       "        vertical-align: middle;\n",
       "    }\n",
       "\n",
       "    .dataframe tbody tr th {\n",
       "        vertical-align: top;\n",
       "    }\n",
       "\n",
       "    .dataframe thead th {\n",
       "        text-align: right;\n",
       "    }\n",
       "</style>\n",
       "<table border=\"1\" class=\"dataframe\">\n",
       "  <thead>\n",
       "    <tr style=\"text-align: right;\">\n",
       "      <th></th>\n",
       "      <th>Unnamed: 0</th>\n",
       "      <th>SP</th>\n",
       "      <th>WT</th>\n",
       "    </tr>\n",
       "  </thead>\n",
       "  <tbody>\n",
       "    <tr>\n",
       "      <th>0</th>\n",
       "      <td>1</td>\n",
       "      <td>104.185353</td>\n",
       "      <td>28.762059</td>\n",
       "    </tr>\n",
       "    <tr>\n",
       "      <th>1</th>\n",
       "      <td>2</td>\n",
       "      <td>105.461264</td>\n",
       "      <td>30.466833</td>\n",
       "    </tr>\n",
       "    <tr>\n",
       "      <th>2</th>\n",
       "      <td>3</td>\n",
       "      <td>105.461264</td>\n",
       "      <td>30.193597</td>\n",
       "    </tr>\n",
       "    <tr>\n",
       "      <th>3</th>\n",
       "      <td>4</td>\n",
       "      <td>113.461264</td>\n",
       "      <td>30.632114</td>\n",
       "    </tr>\n",
       "    <tr>\n",
       "      <th>4</th>\n",
       "      <td>5</td>\n",
       "      <td>104.461264</td>\n",
       "      <td>29.889149</td>\n",
       "    </tr>\n",
       "  </tbody>\n",
       "</table>\n",
       "</div>"
      ],
      "text/plain": [
       "   Unnamed: 0          SP         WT\n",
       "0           1  104.185353  28.762059\n",
       "1           2  105.461264  30.466833\n",
       "2           3  105.461264  30.193597\n",
       "3           4  113.461264  30.632114\n",
       "4           5  104.461264  29.889149"
      ]
     },
     "execution_count": 2,
     "metadata": {},
     "output_type": "execute_result"
    }
   ],
   "source": [
    "df=pd.read_csv('Q9_b.csv')\n",
    "df.head()"
   ]
  },
  {
   "cell_type": "code",
   "execution_count": 3,
   "id": "9edf0ed2",
   "metadata": {
    "ExecuteTime": {
     "end_time": "2023-02-24T12:40:41.565691Z",
     "start_time": "2023-02-24T12:40:41.516091Z"
    }
   },
   "outputs": [
    {
     "data": {
      "text/plain": [
       "1.6114501961773586"
      ]
     },
     "execution_count": 3,
     "metadata": {},
     "output_type": "execute_result"
    }
   ],
   "source": [
    "df.SP.skew()"
   ]
  },
  {
   "cell_type": "code",
   "execution_count": 4,
   "id": "c89468ee",
   "metadata": {
    "ExecuteTime": {
     "end_time": "2023-02-24T12:40:53.192713Z",
     "start_time": "2023-02-24T12:40:53.177112Z"
    }
   },
   "outputs": [
    {
     "data": {
      "text/plain": [
       "-0.6147533255357768"
      ]
     },
     "execution_count": 4,
     "metadata": {},
     "output_type": "execute_result"
    }
   ],
   "source": [
    "df.WT.skew()"
   ]
  },
  {
   "cell_type": "code",
   "execution_count": 5,
   "id": "08ad7cdc",
   "metadata": {
    "ExecuteTime": {
     "end_time": "2023-02-24T12:41:06.163316Z",
     "start_time": "2023-02-24T12:41:06.106263Z"
    }
   },
   "outputs": [
    {
     "data": {
      "text/plain": [
       "Unnamed: 0    0.000000\n",
       "SP            1.611450\n",
       "WT           -0.614753\n",
       "dtype: float64"
      ]
     },
     "execution_count": 5,
     "metadata": {},
     "output_type": "execute_result"
    }
   ],
   "source": [
    "df.skew()"
   ]
  },
  {
   "cell_type": "markdown",
   "id": "a2cd1af3",
   "metadata": {},
   "source": [
    "# skewness value for speed and distance is 1.611450 and -0.614753"
   ]
  },
  {
   "cell_type": "code",
   "execution_count": 6,
   "id": "1bfdf2c4",
   "metadata": {
    "ExecuteTime": {
     "end_time": "2023-02-24T12:41:40.704677Z",
     "start_time": "2023-02-24T12:41:40.695647Z"
    }
   },
   "outputs": [
    {
     "data": {
      "text/plain": [
       "2.9773289437871835"
      ]
     },
     "execution_count": 6,
     "metadata": {},
     "output_type": "execute_result"
    }
   ],
   "source": [
    "df.SP.kurt()"
   ]
  },
  {
   "cell_type": "code",
   "execution_count": 7,
   "id": "364c0689",
   "metadata": {
    "ExecuteTime": {
     "end_time": "2023-02-24T12:41:51.207440Z",
     "start_time": "2023-02-24T12:41:51.198789Z"
    }
   },
   "outputs": [
    {
     "data": {
      "text/plain": [
       "0.9502914910300326"
      ]
     },
     "execution_count": 7,
     "metadata": {},
     "output_type": "execute_result"
    }
   ],
   "source": [
    "df.WT.kurt()"
   ]
  },
  {
   "cell_type": "code",
   "execution_count": 8,
   "id": "0ba900c0",
   "metadata": {
    "ExecuteTime": {
     "end_time": "2023-02-24T12:41:56.759827Z",
     "start_time": "2023-02-24T12:41:56.743335Z"
    }
   },
   "outputs": [
    {
     "data": {
      "text/plain": [
       "Unnamed: 0   -1.200000\n",
       "SP            2.977329\n",
       "WT            0.950291\n",
       "dtype: float64"
      ]
     },
     "execution_count": 8,
     "metadata": {},
     "output_type": "execute_result"
    }
   ],
   "source": [
    "df.kurt()"
   ]
  },
  {
   "cell_type": "code",
   "execution_count": null,
   "id": "87ffeb5d",
   "metadata": {},
   "outputs": [],
   "source": [
    "Kurtosis value for speed and distance is 2.977329 and 0.950291"
   ]
  }
 ],
 "metadata": {
  "kernelspec": {
   "display_name": "Python 3 (ipykernel)",
   "language": "python",
   "name": "python3"
  },
  "language_info": {
   "codemirror_mode": {
    "name": "ipython",
    "version": 3
   },
   "file_extension": ".py",
   "mimetype": "text/x-python",
   "name": "python",
   "nbconvert_exporter": "python",
   "pygments_lexer": "ipython3",
   "version": "3.9.12"
  }
 },
 "nbformat": 4,
 "nbformat_minor": 5
}
