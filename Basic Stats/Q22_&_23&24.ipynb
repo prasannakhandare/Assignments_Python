{
 "cells": [
  {
   "cell_type": "markdown",
   "id": "7edfbc46",
   "metadata": {},
   "source": [
    "# Q22"
   ]
  },
  {
   "cell_type": "code",
   "execution_count": 1,
   "id": "550e6dc6",
   "metadata": {
    "ExecuteTime": {
     "end_time": "2023-02-24T13:13:12.145902Z",
     "start_time": "2023-02-24T13:13:11.619807Z"
    }
   },
   "outputs": [
    {
     "name": "stdout",
     "output_type": "stream",
     "text": [
      "90% confidence interval z-score:  1.64\n",
      "94% confidence interval z-score:  1.88\n",
      "60% confidence interval z-score:  0.84\n"
     ]
    }
   ],
   "source": [
    "# code snippet to calculate z scores\n",
    "from scipy import stats\n",
    "print('90% confidence interval z-score: ',round(stats.norm.ppf(0.95),2))\n",
    "print('94% confidence interval z-score: ',round(stats.norm.ppf(0.97),2))\n",
    "print('60% confidence interval z-score: ',round(stats.norm.ppf(0.80),2))"
   ]
  },
  {
   "cell_type": "markdown",
   "id": "18abe4a8",
   "metadata": {},
   "source": [
    "# Q23"
   ]
  },
  {
   "cell_type": "code",
   "execution_count": 2,
   "id": "ce7dc4e1",
   "metadata": {
    "ExecuteTime": {
     "end_time": "2023-02-24T13:13:29.877758Z",
     "start_time": "2023-02-24T13:13:29.853294Z"
    }
   },
   "outputs": [
    {
     "name": "stdout",
     "output_type": "stream",
     "text": [
      "95% confidence interval t-score:  2.06\n",
      "96% confidence interval t-score:  2.17\n",
      "99% confidence interval t-score:  2.8\n"
     ]
    }
   ],
   "source": [
    "# code snippet to calculate t scores at given confidence intervals\n",
    "from scipy import stats\n",
    "print('95% confidence interval t-score: ',round(stats.t.ppf(0.975,24),2))\n",
    "print('96% confidence interval t-score: ',round(stats.t.ppf(0.98,24),2))\n",
    "print('99% confidence interval t-score: ',round(stats.t.ppf(0.995,24),2))"
   ]
  },
  {
   "cell_type": "markdown",
   "id": "075f5693",
   "metadata": {},
   "source": [
    "# Q24"
   ]
  },
  {
   "cell_type": "code",
   "execution_count": 3,
   "id": "1ae788db",
   "metadata": {
    "ExecuteTime": {
     "end_time": "2023-02-24T13:13:53.559609Z",
     "start_time": "2023-02-24T13:13:53.542338Z"
    }
   },
   "outputs": [],
   "source": [
    "from scipy import stats\n",
    "from scipy.stats import norm"
   ]
  },
  {
   "cell_type": "code",
   "execution_count": 4,
   "id": "5713b1fa",
   "metadata": {
    "ExecuteTime": {
     "end_time": "2023-02-24T13:14:01.024209Z",
     "start_time": "2023-02-24T13:14:01.013241Z"
    }
   },
   "outputs": [
    {
     "data": {
      "text/plain": [
       "-0.4714045207910317"
      ]
     },
     "execution_count": 4,
     "metadata": {},
     "output_type": "execute_result"
    }
   ],
   "source": [
    "# find t-scores at x=260; t=(s_mean-P_mean)/(s_SD/sqrt(n))\n",
    "t=(260-270)/(90/18**0.5)\n",
    "t"
   ]
  },
  {
   "cell_type": "code",
   "execution_count": 5,
   "id": "85769edc",
   "metadata": {
    "ExecuteTime": {
     "end_time": "2023-02-24T13:14:08.453467Z",
     "start_time": "2023-02-24T13:14:08.434516Z"
    }
   },
   "outputs": [
    {
     "data": {
      "text/plain": [
       "0.32167411684460556"
      ]
     },
     "execution_count": 5,
     "metadata": {},
     "output_type": "execute_result"
    }
   ],
   "source": [
    "# p_value=1-stats.t.cdf(abs(t_scores),df=n-1)... Using cdf function\n",
    "p_value=1-stats.t.cdf(abs(-0.4714),df=17)\n",
    "p_value"
   ]
  },
  {
   "cell_type": "code",
   "execution_count": 6,
   "id": "f590fa95",
   "metadata": {
    "ExecuteTime": {
     "end_time": "2023-02-24T13:14:14.283450Z",
     "start_time": "2023-02-24T13:14:14.264573Z"
    }
   },
   "outputs": [
    {
     "data": {
      "text/plain": [
       "0.32167411684460556"
      ]
     },
     "execution_count": 6,
     "metadata": {},
     "output_type": "execute_result"
    }
   ],
   "source": [
    "#  OR p_value=stats.t.sf(abs(t_score),df=n-1)... Using sf function\n",
    "p_value=stats.t.sf(abs(-0.4714),df=17)\n",
    "p_value"
   ]
  },
  {
   "cell_type": "code",
   "execution_count": null,
   "id": "a4ce28a7",
   "metadata": {},
   "outputs": [],
   "source": []
  }
 ],
 "metadata": {
  "kernelspec": {
   "display_name": "Python 3 (ipykernel)",
   "language": "python",
   "name": "python3"
  },
  "language_info": {
   "codemirror_mode": {
    "name": "ipython",
    "version": 3
   },
   "file_extension": ".py",
   "mimetype": "text/x-python",
   "name": "python",
   "nbconvert_exporter": "python",
   "pygments_lexer": "ipython3",
   "version": "3.9.12"
  }
 },
 "nbformat": 4,
 "nbformat_minor": 5
}
